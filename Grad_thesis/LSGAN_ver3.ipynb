{
 "cells": [
  {
   "cell_type": "code",
   "execution_count": 1,
   "metadata": {
    "colab": {
     "base_uri": "https://localhost:8080/",
     "height": 34
    },
    "colab_type": "code",
    "executionInfo": {
     "elapsed": 1410,
     "status": "ok",
     "timestamp": 1547759165030,
     "user": {
      "displayName": "Takuma Kobayashi",
      "photoUrl": "https://lh6.googleusercontent.com/-p-aKe8JYv6k/AAAAAAAAAAI/AAAAAAAAAB4/GxwcHgOFD6c/s64/photo.jpg",
      "userId": "06358397516930507128"
     },
     "user_tz": -540
    },
    "id": "76DG_1bf64GT",
    "outputId": "901d18fc-2089-4942-8535-d03b30a06363"
   },
   "outputs": [
    {
     "name": "stdout",
     "output_type": "stream",
     "text": [
      "Drive already mounted at /content/gdrive; to attempt to forcibly remount, call drive.mount(\"/content/gdrive\", force_remount=True).\n"
     ]
    }
   ],
   "source": [
    "from google.colab import drive\n",
    "drive.mount('/content/gdrive')"
   ]
  },
  {
   "cell_type": "code",
   "execution_count": 2,
   "metadata": {
    "colab": {
     "base_uri": "https://localhost:8080/",
     "height": 34
    },
    "colab_type": "code",
    "executionInfo": {
     "elapsed": 1390,
     "status": "ok",
     "timestamp": 1547759165030,
     "user": {
      "displayName": "Takuma Kobayashi",
      "photoUrl": "https://lh6.googleusercontent.com/-p-aKe8JYv6k/AAAAAAAAAAI/AAAAAAAAAB4/GxwcHgOFD6c/s64/photo.jpg",
      "userId": "06358397516930507128"
     },
     "user_tz": -540
    },
    "id": "vkzAllIK66ms",
    "outputId": "95793c99-a6ac-40f6-c1fb-67f75a880de1"
   },
   "outputs": [
    {
     "name": "stdout",
     "output_type": "stream",
     "text": [
      "/content/gdrive/My Drive/Colab Notebooks/Practice-ML/Grad_thesis\n"
     ]
    }
   ],
   "source": [
    "cd /content/gdrive/My Drive/Colab Notebooks/Practice-ML/Grad_thesis/"
   ]
  },
  {
   "cell_type": "code",
   "execution_count": 3,
   "metadata": {
    "colab": {
     "base_uri": "https://localhost:8080/",
     "height": 391
    },
    "colab_type": "code",
    "executionInfo": {
     "elapsed": 46937,
     "status": "ok",
     "timestamp": 1547759210592,
     "user": {
      "displayName": "Takuma Kobayashi",
      "photoUrl": "https://lh6.googleusercontent.com/-p-aKe8JYv6k/AAAAAAAAAAI/AAAAAAAAAB4/GxwcHgOFD6c/s64/photo.jpg",
      "userId": "06358397516930507128"
     },
     "user_tz": -540
    },
    "id": "2L53fqQ67E7e",
    "outputId": "628e1b19-9b90-4407-f618-095ca2ce7572"
   },
   "outputs": [
    {
     "name": "stdout",
     "output_type": "stream",
     "text": [
      "Requirement already satisfied: torch in /usr/local/lib/python3.6/dist-packages (0.4.1)\n",
      "Requirement already satisfied: torchvision in /usr/local/lib/python3.6/dist-packages (0.2.1)\n",
      "Requirement already satisfied: six in /usr/local/lib/python3.6/dist-packages (from torchvision) (1.11.0)\n",
      "Requirement already satisfied: torch in /usr/local/lib/python3.6/dist-packages (from torchvision) (0.4.1)\n",
      "Requirement already satisfied: pillow>=4.1.1 in /usr/local/lib/python3.6/dist-packages (from torchvision) (5.3.0)\n",
      "Requirement already satisfied: numpy in /usr/local/lib/python3.6/dist-packages (from torchvision) (1.14.6)\n",
      "Requirement already satisfied: numpy in /usr/local/lib/python3.6/dist-packages (1.14.6)\n",
      "Requirement already satisfied: pandas in /usr/local/lib/python3.6/dist-packages (0.22.0)\n",
      "Requirement already satisfied: pytz>=2011k in /usr/local/lib/python3.6/dist-packages (from pandas) (2018.9)\n",
      "Requirement already satisfied: python-dateutil>=2 in /usr/local/lib/python3.6/dist-packages (from pandas) (2.5.3)\n",
      "Requirement already satisfied: numpy>=1.9.0 in /usr/local/lib/python3.6/dist-packages (from pandas) (1.14.6)\n",
      "Requirement already satisfied: six>=1.5 in /usr/local/lib/python3.6/dist-packages (from python-dateutil>=2->pandas) (1.11.0)\n",
      "Requirement already satisfied: matplotlib in /usr/local/lib/python3.6/dist-packages (2.1.2)\n",
      "Requirement already satisfied: python-dateutil>=2.1 in /usr/local/lib/python3.6/dist-packages (from matplotlib) (2.5.3)\n",
      "Requirement already satisfied: pyparsing!=2.0.4,!=2.1.2,!=2.1.6,>=2.0.1 in /usr/local/lib/python3.6/dist-packages (from matplotlib) (2.3.1)\n",
      "Requirement already satisfied: pytz in /usr/local/lib/python3.6/dist-packages (from matplotlib) (2018.9)\n",
      "Requirement already satisfied: six>=1.10 in /usr/local/lib/python3.6/dist-packages (from matplotlib) (1.11.0)\n",
      "Requirement already satisfied: cycler>=0.10 in /usr/local/lib/python3.6/dist-packages (from matplotlib) (0.10.0)\n",
      "Requirement already satisfied: numpy>=1.7.1 in /usr/local/lib/python3.6/dist-packages (from matplotlib) (1.14.6)\n",
      "Requirement already satisfied: pillow in /usr/local/lib/python3.6/dist-packages (5.3.0)\n",
      "Requirement already satisfied: opencv-python in /usr/local/lib/python3.6/dist-packages (3.4.3.18)\n",
      "Requirement already satisfied: numpy>=1.11.3 in /usr/local/lib/python3.6/dist-packages (from opencv-python) (1.14.6)\n"
     ]
    }
   ],
   "source": [
    "!pip install torch\n",
    "!pip install torchvision\n",
    "!pip install numpy\n",
    "!pip install pandas\n",
    "!pip install matplotlib\n",
    "!pip install pillow\n",
    "!pip install opencv-python"
   ]
  },
  {
   "cell_type": "code",
   "execution_count": 1,
   "metadata": {
    "colab": {},
    "colab_type": "code",
    "id": "fPE7EzB96zyT"
   },
   "outputs": [],
   "source": [
    "import os\n",
    "import random\n",
    "import copy\n",
    "import argparse\n",
    "import time\n",
    "from statistics import mean, variance\n",
    "import numpy as np\n",
    "import pandas as pd\n",
    "\n",
    "import torch\n",
    "import torch.nn as nn\n",
    "import torch.optim as optim\n",
    "from torch.optim import lr_scheduler\n",
    "from torchvision import models, transforms\n",
    "import torch.utils.data as data\n",
    "import torch.nn.functional as F\n",
    "import matplotlib.pyplot as plt\n",
    "import matplotlib.style\n",
    "import torchvision.utils as vutils\n",
    "from sklearn.model_selection import train_test_split\n",
    "\n",
    "from seq_net_ver2 import weights_init, Generator, Discriminator\n",
    "import seq_modules as sem"
   ]
  },
  {
   "cell_type": "code",
   "execution_count": 2,
   "metadata": {
    "colab": {
     "base_uri": "https://localhost:8080/",
     "height": 34
    },
    "colab_type": "code",
    "executionInfo": {
     "elapsed": 48895,
     "status": "ok",
     "timestamp": 1547759212587,
     "user": {
      "displayName": "Takuma Kobayashi",
      "photoUrl": "https://lh6.googleusercontent.com/-p-aKe8JYv6k/AAAAAAAAAAI/AAAAAAAAAB4/GxwcHgOFD6c/s64/photo.jpg",
      "userId": "06358397516930507128"
     },
     "user_tz": -540
    },
    "id": "zO4Zlp_46zyY",
    "outputId": "c23f7c24-a098-4efd-e492-f1feb39cbee9"
   },
   "outputs": [
    {
     "data": {
      "text/plain": [
       "<torch._C.Generator at 0x207abab5450>"
      ]
     },
     "execution_count": 2,
     "metadata": {},
     "output_type": "execute_result"
    }
   ],
   "source": [
    "# 設定\n",
    "workers = 0\n",
    "batch_size=256\n",
    "nz = 100\n",
    "nch_g = 128\n",
    "nch_d = 128\n",
    "n_epoch = 50\n",
    "lr = 0.0002\n",
    "beta1 = 0.5\n",
    "outf = './Result/lsGAN'\n",
    "display_interval = 100\n",
    "\n",
    "# 保存先ディレクトリを作成\n",
    "try:\n",
    "    os.makedirs(outf, exist_ok=True)\n",
    "except OSError as error: \n",
    "    print(error)\n",
    "    pass\n",
    "\n",
    "# 乱数のシード（種）を固定\n",
    "random.seed(0)\n",
    "np.random.seed(0)\n",
    "torch.manual_seed(0)"
   ]
  },
  {
   "cell_type": "code",
   "execution_count": 3,
   "metadata": {
    "colab": {},
    "colab_type": "code",
    "id": "6pS2Hwb06zyd"
   },
   "outputs": [],
   "source": [
    "SEQ_LENGTH = 128\n",
    "\n",
    "def make_dataset(datadir):\n",
    "    '''\n",
    "    convert sequence to vector array\n",
    "    1.init array all 0 (4*SEQ_LENGTH)\n",
    "    2.convert sequences (all 0 array) to vector array.\n",
    "    ex. ACCGAT =\n",
    "    0 0 0 0 0 0    1 0 0 0 1 0\n",
    "    0 0 0 0 0 0  → 0 1 1 0 0 0\n",
    "    0 0 0 0 0 0    0 0 0 1 0 0\n",
    "    0 0 0 0 0 0    0 0 0 0 0 1\n",
    "    '''\n",
    "    pos_seq = \"SRX356455.05_peak_seq_128.txt\"\n",
    "    # id      chr     start   end     seq\n",
    "    data = pd.read_csv(os.path.join(datadir, \"sequences\", pos_seq), sep=\"\\t\")\n",
    "    sequences = [] \n",
    "    classes = [] #positive or negative\n",
    "    for index, row in data[[\"id\", \"seq\"]].iterrows():\n",
    "        y = 1 #positive\n",
    "        seq_vector = seq2vector(row[\"seq\"])\n",
    "        if len(seq_vector) == 0:\n",
    "            continue\n",
    "        sequences.append(seq2vector(row[\"seq\"]))\n",
    "        classes.append(np.array(y))\n",
    "    return sequences, classes\n",
    "\n",
    "def seq2vector(seq):\n",
    "    if type(seq) is not str: # Case on Null sequence\n",
    "        return np.zeros((0,0))\n",
    "    seq_array = np.zeros((4, SEQ_LENGTH)) #initiallize 4*SEQ_LENGTH array all 0\n",
    "    flag = 0\n",
    "    for i in range(SEQ_LENGTH):\n",
    "        s = seq[i]\n",
    "        if s == \"a\" or s == \"A\":\n",
    "            seq_array[0, i] = 1\n",
    "            seq_array[1, i] = -1\n",
    "            seq_array[2, i] = -1\n",
    "            seq_array[3, i] = -1\n",
    "        elif s == \"c\" or s == \"C\":\n",
    "            seq_array[0, i] = -1\n",
    "            seq_array[1, i] = 1\n",
    "            seq_array[2, i] = -1\n",
    "            seq_array[3, i] = -1\n",
    "        elif s == \"g\" or s == \"G\":\n",
    "            seq_array[0, i] = -1\n",
    "            seq_array[1, i] = -1\n",
    "            seq_array[2, i] = 1\n",
    "            seq_array[3, i] = -1\n",
    "        elif s == \"t\" or s == \"T\":\n",
    "            seq_array[0, i] = -1\n",
    "            seq_array[1, i] = -1\n",
    "            seq_array[2, i] = -1\n",
    "            seq_array[3, i] = 1\n",
    "        else:\n",
    "            flag += 1\n",
    "    if len(seq) == flag: # Case on N sequence\n",
    "        return np.zeros((0,0))\n",
    "    seq_array = seq_array.astype(np.float32)\n",
    "    return seq_array"
   ]
  },
  {
   "cell_type": "code",
   "execution_count": 4,
   "metadata": {
    "colab": {
     "base_uri": "https://localhost:8080/",
     "height": 34
    },
    "colab_type": "code",
    "executionInfo": {
     "elapsed": 80045,
     "status": "ok",
     "timestamp": 1547759243762,
     "user": {
      "displayName": "Takuma Kobayashi",
      "photoUrl": "https://lh6.googleusercontent.com/-p-aKe8JYv6k/AAAAAAAAAAI/AAAAAAAAAB4/GxwcHgOFD6c/s64/photo.jpg",
      "userId": "06358397516930507128"
     },
     "user_tz": -540
    },
    "id": "Q3F_XWIE6zyg",
    "outputId": "be6f1ed4-58d5-4382-bf74-5df47583877c"
   },
   "outputs": [
    {
     "name": "stdout",
     "output_type": "stream",
     "text": [
      "device: cuda:0\n"
     ]
    }
   ],
   "source": [
    "datadir = \"data\"\n",
    "\n",
    "class DatasetFolder(data.Dataset):\n",
    "    def __init__(self, X, y):\n",
    "        self.samples = X\n",
    "        self.targets = y\n",
    "        self.transforms = transforms.Compose([\n",
    "            ToTensorOfTarget()\n",
    "        ])\n",
    "\n",
    "    def __getitem__(self, index):\n",
    "        sample = self.samples[index]\n",
    "        sample = self.transforms(sample)\n",
    "        target = self.targets[index]\n",
    "        target = self.transforms(target)\n",
    "        return sample, target\n",
    "\n",
    "    def __len__(self):\n",
    "        return len(self.samples)\n",
    "\n",
    "\n",
    "class ToTensorOfTarget(object):\n",
    "    def __call__(self, target):\n",
    "        return torch.from_numpy(target)\n",
    "\n",
    "# 全体を、training, valid, testに分ける。ここでは、3:1:1 に分割。\n",
    "# training + valid が、機械学習の training data 相当。\n",
    "X, y = make_dataset(datadir)\n",
    "X_train, X_test, y_train, y_test = train_test_split(\n",
    "    X, y, test_size = 0.01)\n",
    "\n",
    "\n",
    "sequence_datasets = {\n",
    "    'train':DatasetFolder(X_train, y_train),\n",
    "    'test': DatasetFolder(X_test, y_test)\n",
    "}\n",
    "\n",
    "dataset_sizes = {x: len(sequence_datasets[x]) for x in ['train', 'test']}\n",
    "device = torch.device(\"cuda:0\" if torch.cuda.is_available() else \"cpu\")\n",
    "print('device:', device)"
   ]
  },
  {
   "cell_type": "code",
   "execution_count": 5,
   "metadata": {
    "colab": {},
    "colab_type": "code",
    "id": "LEJXjMwVG_pO"
   },
   "outputs": [],
   "source": [
    "# バッチサイズ分のデータを読み込む。\n",
    "# training はデータをシャッフルし、読み込み始める配列をランダムにする。\n",
    "# 他はシャッフルの必要なし。\n",
    "batch_size=256\n",
    "workers=0\n",
    "dataloaders = {\n",
    "    'train': torch.utils.data.DataLoader(\n",
    "        sequence_datasets['train'],\n",
    "        batch_size=batch_size,\n",
    "        shuffle=True,\n",
    "        num_workers=workers),\n",
    "    'test': torch.utils.data.DataLoader(\n",
    "        sequence_datasets['test'],\n",
    "        batch_size=batch_size,\n",
    "        shuffle=False,\n",
    "        num_workers=workers)\n",
    "}\n",
    "dataset_sizes = {x: len(sequence_datasets[x]) for x in ['train', 'test']}"
   ]
  },
  {
   "cell_type": "code",
   "execution_count": 6,
   "metadata": {
    "colab": {
     "base_uri": "https://localhost:8080/",
     "height": 578
    },
    "colab_type": "code",
    "executionInfo": {
     "elapsed": 86262,
     "status": "ok",
     "timestamp": 1547759249997,
     "user": {
      "displayName": "Takuma Kobayashi",
      "photoUrl": "https://lh6.googleusercontent.com/-p-aKe8JYv6k/AAAAAAAAAAI/AAAAAAAAAB4/GxwcHgOFD6c/s64/photo.jpg",
      "userId": "06358397516930507128"
     },
     "user_tz": -540
    },
    "id": "THWJ0sN36zyk",
    "outputId": "d949d121-77fa-4106-c4a8-39a52414fa2f"
   },
   "outputs": [
    {
     "name": "stdout",
     "output_type": "stream",
     "text": [
      "Generator(\n",
      "  (layers): ModuleDict(\n",
      "    (layer0): Sequential(\n",
      "      (0): ConvTranspose1d(100, 2048, kernel_size=(4,), stride=(1,))\n",
      "      (1): BatchNorm1d(2048, eps=1e-05, momentum=0.1, affine=True, track_running_stats=True)\n",
      "      (2): LeakyReLU(negative_slope=0.2)\n",
      "    )\n",
      "    (layer1): Sequential(\n",
      "      (0): ConvTranspose1d(2048, 1024, kernel_size=(4,), stride=(2,), padding=(1,))\n",
      "      (1): BatchNorm1d(1024, eps=1e-05, momentum=0.1, affine=True, track_running_stats=True)\n",
      "      (2): LeakyReLU(negative_slope=0.2)\n",
      "    )\n",
      "    (layer2): Sequential(\n",
      "      (0): ConvTranspose1d(1024, 512, kernel_size=(4,), stride=(2,), padding=(1,))\n",
      "      (1): BatchNorm1d(512, eps=1e-05, momentum=0.1, affine=True, track_running_stats=True)\n",
      "      (2): LeakyReLU(negative_slope=0.2)\n",
      "      (3): Dropout(p=0.5)\n",
      "    )\n",
      "    (layer3): Sequential(\n",
      "      (0): ConvTranspose1d(512, 256, kernel_size=(4,), stride=(2,), padding=(1,))\n",
      "      (1): BatchNorm1d(256, eps=1e-05, momentum=0.1, affine=True, track_running_stats=True)\n",
      "      (2): LeakyReLU(negative_slope=0.2)\n",
      "    )\n",
      "    (layer4): Sequential(\n",
      "      (0): ConvTranspose1d(256, 128, kernel_size=(4,), stride=(2,), padding=(1,))\n",
      "      (1): BatchNorm1d(128, eps=1e-05, momentum=0.1, affine=True, track_running_stats=True)\n",
      "      (2): LeakyReLU(negative_slope=0.2)\n",
      "      (3): Dropout(p=0.5)\n",
      "    )\n",
      "    (layer5): Sequential(\n",
      "      (0): ConvTranspose1d(128, 4, kernel_size=(4,), stride=(2,), padding=(1,))\n",
      "      (1): Tanh()\n",
      "    )\n",
      "  )\n",
      ")\n"
     ]
    }
   ],
   "source": [
    "# 生成器G。ランダムベクトルから贋作配列を生成する\n",
    "netG = Generator(nz=nz, nch_g=nch_g).to(device)\n",
    "netG.apply(weights_init)    # weights_init関数で初期化\n",
    "print(netG)"
   ]
  },
  {
   "cell_type": "code",
   "execution_count": 7,
   "metadata": {
    "colab": {
     "base_uri": "https://localhost:8080/",
     "height": 510
    },
    "colab_type": "code",
    "executionInfo": {
     "elapsed": 86685,
     "status": "ok",
     "timestamp": 1547759250430,
     "user": {
      "displayName": "Takuma Kobayashi",
      "photoUrl": "https://lh6.googleusercontent.com/-p-aKe8JYv6k/AAAAAAAAAAI/AAAAAAAAAB4/GxwcHgOFD6c/s64/photo.jpg",
      "userId": "06358397516930507128"
     },
     "user_tz": -540
    },
    "id": "zIsEJjBi6zyn",
    "outputId": "15be38a4-b909-46fa-e9f0-f43285d3979b"
   },
   "outputs": [
    {
     "name": "stdout",
     "output_type": "stream",
     "text": [
      "Discriminator(\n",
      "  (layers): ModuleDict(\n",
      "    (layer0): Sequential(\n",
      "      (0): Conv1d(4, 128, kernel_size=(4,), stride=(2,), padding=(1,))\n",
      "      (1): LeakyReLU(negative_slope=0.2)\n",
      "    )\n",
      "    (layer1): Sequential(\n",
      "      (0): Conv1d(128, 256, kernel_size=(4,), stride=(2,), padding=(1,))\n",
      "      (1): BatchNorm1d(256, eps=1e-05, momentum=0.1, affine=True, track_running_stats=True)\n",
      "      (2): LeakyReLU(negative_slope=0.2)\n",
      "    )\n",
      "    (layer2): Sequential(\n",
      "      (0): Conv1d(256, 512, kernel_size=(4,), stride=(2,), padding=(1,))\n",
      "      (1): BatchNorm1d(512, eps=1e-05, momentum=0.1, affine=True, track_running_stats=True)\n",
      "      (2): LeakyReLU(negative_slope=0.2)\n",
      "    )\n",
      "    (layer3): Sequential(\n",
      "      (0): Conv1d(512, 1024, kernel_size=(4,), stride=(2,), padding=(1,))\n",
      "      (1): BatchNorm1d(1024, eps=1e-05, momentum=0.1, affine=True, track_running_stats=True)\n",
      "      (2): LeakyReLU(negative_slope=0.2)\n",
      "    )\n",
      "    (layer4): Sequential(\n",
      "      (0): Conv1d(1024, 2048, kernel_size=(4,), stride=(2,), padding=(1,))\n",
      "      (1): BatchNorm1d(2048, eps=1e-05, momentum=0.1, affine=True, track_running_stats=True)\n",
      "      (2): LeakyReLU(negative_slope=0.2)\n",
      "    )\n",
      "    (layer5): Conv1d(2048, 1, kernel_size=(4,), stride=(1,))\n",
      "  )\n",
      ")\n"
     ]
    }
   ],
   "source": [
    "# 識別器D。配列が、元配列か贋作配列かを識別する\n",
    "netD = Discriminator(nch_d=nch_d).to(device)\n",
    "netD.apply(weights_init)\n",
    "print(netD)"
   ]
  },
  {
   "cell_type": "code",
   "execution_count": 8,
   "metadata": {
    "colab": {},
    "colab_type": "code",
    "id": "abf1PyD96zyq"
   },
   "outputs": [],
   "source": [
    "criterion = nn.MSELoss()    # 損失関数は平均二乗誤差損失\n",
    "\n",
    "# オプティマイザ−のセットアップ\n",
    "optimizerD = optim.Adam(netD.parameters(), lr=lr, betas=(beta1, 0.999), weight_decay=1e-5)  # 識別器D用\n",
    "optimizerG = optim.Adam(netG.parameters(), lr=lr, betas=(beta1, 0.999), weight_decay=1e-5)  # 生成器G用\n",
    "\n",
    "fixed_noise = torch.randn(batch_size, nz, 1,  device=device)  # 確認用の固定したノイズ"
   ]
  },
  {
   "cell_type": "code",
   "execution_count": 9,
   "metadata": {
    "colab": {
     "base_uri": "https://localhost:8080/",
     "height": 1972
    },
    "colab_type": "code",
    "executionInfo": {
     "elapsed": 1431,
     "status": "error",
     "timestamp": 1547757532865,
     "user": {
      "displayName": "Takuma Kobayashi",
      "photoUrl": "https://lh6.googleusercontent.com/-p-aKe8JYv6k/AAAAAAAAAAI/AAAAAAAAAB4/GxwcHgOFD6c/s64/photo.jpg",
      "userId": "06358397516930507128"
     },
     "user_tz": -540
    },
    "id": "dbEMPfif6zyt",
    "outputId": "86de345c-27ff-4713-bf12-91e13f2e0f1a"
   },
   "outputs": [
    {
     "name": "stdout",
     "output_type": "stream",
     "text": [
      "[1/50][1/211] Loss_D: 3.703 Loss_G: 17.892 D(x): 0.126 D(G(z)): -0.034/5.189\n",
      "[1/50][101/211] Loss_D: 0.989 Loss_G: 0.244 D(x): 0.530 D(G(z)): -0.318/0.537\n",
      "[1/50][201/211] Loss_D: 0.711 Loss_G: 1.292 D(x): 0.944 D(G(z)): 0.470/0.015\n",
      "[2/50][1/211] Loss_D: 0.817 Loss_G: 2.031 D(x): 1.217 D(G(z)): 0.690/-0.341\n",
      "[2/50][101/211] Loss_D: 0.436 Loss_G: 0.621 D(x): 0.670 D(G(z)): 0.184/0.088\n",
      "[2/50][201/211] Loss_D: 0.461 Loss_G: 1.557 D(x): 0.880 D(G(z)): 0.270/-0.230\n",
      "[3/50][1/211] Loss_D: 1.227 Loss_G: 0.325 D(x): 0.255 D(G(z)): -0.217/0.508\n",
      "[3/50][101/211] Loss_D: 0.824 Loss_G: 0.256 D(x): 0.612 D(G(z)): -0.017/0.844\n",
      "[3/50][201/211] Loss_D: 0.476 Loss_G: 0.719 D(x): 0.791 D(G(z)): 0.256/0.326\n",
      "[4/50][1/211] Loss_D: 0.883 Loss_G: 0.116 D(x): 0.499 D(G(z)): -0.360/1.120\n",
      "[4/50][101/211] Loss_D: 0.329 Loss_G: 1.819 D(x): 0.983 D(G(z)): 0.267/-0.460\n",
      "[4/50][201/211] Loss_D: 0.295 Loss_G: 0.819 D(x): 0.827 D(G(z)): 0.042/-0.093\n",
      "[5/50][1/211] Loss_D: 0.490 Loss_G: 2.074 D(x): 1.124 D(G(z)): 0.525/-0.512\n",
      "[5/50][101/211] Loss_D: 0.656 Loss_G: 0.263 D(x): 0.480 D(G(z)): -0.380/0.522\n",
      "[5/50][201/211] Loss_D: 0.369 Loss_G: 0.497 D(x): 0.960 D(G(z)): -0.057/0.502\n",
      "[6/50][1/211] Loss_D: 0.315 Loss_G: 1.708 D(x): 0.909 D(G(z)): 0.243/-0.116\n",
      "[6/50][101/211] Loss_D: 0.282 Loss_G: 0.663 D(x): 1.114 D(G(z)): 0.238/-0.024\n",
      "[6/50][201/211] Loss_D: 0.179 Loss_G: 1.457 D(x): 0.935 D(G(z)): 0.228/-0.132\n",
      "[7/50][1/211] Loss_D: 0.563 Loss_G: 1.441 D(x): 1.352 D(G(z)): 0.736/-0.094\n",
      "[7/50][101/211] Loss_D: 0.107 Loss_G: 1.088 D(x): 1.111 D(G(z)): 0.189/0.086\n",
      "[7/50][201/211] Loss_D: 0.133 Loss_G: 0.869 D(x): 1.004 D(G(z)): 0.256/0.111\n",
      "[8/50][1/211] Loss_D: 1.211 Loss_G: 1.164 D(x): 1.532 D(G(z)): 0.869/-0.346\n",
      "[8/50][101/211] Loss_D: 0.138 Loss_G: 1.339 D(x): 1.128 D(G(z)): 0.351/-0.124\n",
      "[8/50][201/211] Loss_D: 0.107 Loss_G: 0.750 D(x): 0.888 D(G(z)): 0.156/0.029\n",
      "[9/50][1/211] Loss_D: 0.120 Loss_G: 1.166 D(x): 1.181 D(G(z)): 0.297/0.004\n",
      "[9/50][101/211] Loss_D: 0.144 Loss_G: 0.636 D(x): 0.958 D(G(z)): 0.074/0.005\n",
      "[9/50][201/211] Loss_D: 0.117 Loss_G: 0.503 D(x): 0.948 D(G(z)): 0.199/0.434\n",
      "[10/50][1/211] Loss_D: 0.198 Loss_G: 0.617 D(x): 0.694 D(G(z)): 0.011/0.212\n",
      "[10/50][101/211] Loss_D: 0.179 Loss_G: 0.636 D(x): 0.855 D(G(z)): 0.256/0.321\n",
      "[10/50][201/211] Loss_D: 0.111 Loss_G: 1.005 D(x): 0.959 D(G(z)): 0.124/0.195\n",
      "[11/50][1/211] Loss_D: 0.158 Loss_G: 0.846 D(x): 1.050 D(G(z)): 0.231/-0.033\n",
      "[11/50][101/211] Loss_D: 0.060 Loss_G: 0.624 D(x): 0.916 D(G(z)): 0.211/0.100\n",
      "[11/50][201/211] Loss_D: 0.070 Loss_G: 0.822 D(x): 0.772 D(G(z)): 0.117/-0.173\n",
      "[12/50][1/211] Loss_D: 0.167 Loss_G: 1.007 D(x): 1.035 D(G(z)): 0.236/-0.150\n",
      "[12/50][101/211] Loss_D: 0.239 Loss_G: 0.656 D(x): 0.694 D(G(z)): -0.006/0.204\n",
      "[12/50][201/211] Loss_D: 0.255 Loss_G: 1.272 D(x): 1.116 D(G(z)): 0.269/-0.366\n",
      "[13/50][1/211] Loss_D: 0.132 Loss_G: 0.462 D(x): 0.934 D(G(z)): 0.144/0.533\n",
      "[13/50][101/211] Loss_D: 0.067 Loss_G: 0.728 D(x): 1.095 D(G(z)): 0.304/0.108\n",
      "[13/50][201/211] Loss_D: 0.459 Loss_G: 1.347 D(x): 1.311 D(G(z)): 0.506/-0.284\n",
      "[14/50][1/211] Loss_D: 0.104 Loss_G: 1.137 D(x): 0.968 D(G(z)): 0.166/-0.074\n",
      "[14/50][101/211] Loss_D: 0.076 Loss_G: 0.304 D(x): 0.879 D(G(z)): 0.164/0.413\n",
      "[14/50][201/211] Loss_D: 0.062 Loss_G: 0.557 D(x): 0.942 D(G(z)): 0.143/0.166\n",
      "[15/50][1/211] Loss_D: 0.443 Loss_G: 0.370 D(x): 0.611 D(G(z)): -0.113/0.564\n",
      "[15/50][101/211] Loss_D: 0.151 Loss_G: 1.086 D(x): 1.005 D(G(z)): 0.295/-0.174\n",
      "[15/50][201/211] Loss_D: 0.301 Loss_G: 0.394 D(x): 0.713 D(G(z)): -0.149/0.406\n",
      "[16/50][1/211] Loss_D: 0.211 Loss_G: 1.176 D(x): 1.124 D(G(z)): 0.345/-0.181\n",
      "[16/50][101/211] Loss_D: 0.101 Loss_G: 0.412 D(x): 0.739 D(G(z)): 0.020/0.251\n",
      "[16/50][201/211] Loss_D: 0.194 Loss_G: 0.875 D(x): 0.789 D(G(z)): -0.018/0.260\n",
      "[17/50][1/211] Loss_D: 0.040 Loss_G: 0.642 D(x): 0.936 D(G(z)): 0.183/0.083\n",
      "[17/50][101/211] Loss_D: 0.050 Loss_G: 0.670 D(x): 0.961 D(G(z)): 0.195/0.063\n",
      "[17/50][201/211] Loss_D: 0.042 Loss_G: 0.499 D(x): 0.955 D(G(z)): 0.117/0.231\n",
      "[18/50][1/211] Loss_D: 0.054 Loss_G: 0.520 D(x): 0.816 D(G(z)): 0.111/0.013\n",
      "[18/50][101/211] Loss_D: 0.061 Loss_G: 0.406 D(x): 1.022 D(G(z)): 0.188/0.204\n",
      "[18/50][201/211] Loss_D: 0.086 Loss_G: 0.182 D(x): 0.691 D(G(z)): 0.171/0.433\n",
      "[19/50][1/211] Loss_D: 0.078 Loss_G: 0.608 D(x): 0.920 D(G(z)): 0.312/0.279\n",
      "[19/50][101/211] Loss_D: 0.041 Loss_G: 0.378 D(x): 0.729 D(G(z)): 0.065/0.184\n",
      "[19/50][201/211] Loss_D: 0.022 Loss_G: 0.593 D(x): 0.910 D(G(z)): 0.092/0.134\n",
      "[20/50][1/211] Loss_D: 0.047 Loss_G: 0.542 D(x): 0.830 D(G(z)): 0.001/0.053\n",
      "[20/50][101/211] Loss_D: 0.050 Loss_G: 0.882 D(x): 1.182 D(G(z)): 0.385/0.169\n",
      "[20/50][201/211] Loss_D: 0.287 Loss_G: 1.081 D(x): 1.162 D(G(z)): 0.453/-0.144\n",
      "[21/50][1/211] Loss_D: 0.142 Loss_G: 0.482 D(x): 0.712 D(G(z)): -0.112/0.177\n",
      "[21/50][101/211] Loss_D: 0.133 Loss_G: 1.219 D(x): 1.034 D(G(z)): 0.336/0.016\n",
      "[21/50][201/211] Loss_D: 0.134 Loss_G: 0.560 D(x): 0.634 D(G(z)): -0.071/0.195\n",
      "[22/50][1/211] Loss_D: 0.056 Loss_G: 0.740 D(x): 1.069 D(G(z)): 0.308/0.241\n",
      "[22/50][101/211] Loss_D: 0.046 Loss_G: 0.781 D(x): 0.903 D(G(z)): 0.242/0.021\n",
      "[22/50][201/211] Loss_D: 0.060 Loss_G: 1.066 D(x): 0.947 D(G(z)): 0.146/0.109\n",
      "[23/50][1/211] Loss_D: 0.100 Loss_G: 1.442 D(x): 1.118 D(G(z)): 0.266/-0.054\n",
      "[23/50][101/211] Loss_D: 0.077 Loss_G: 0.600 D(x): 0.738 D(G(z)): -0.054/0.140\n",
      "[23/50][201/211] Loss_D: 0.202 Loss_G: 0.172 D(x): 0.605 D(G(z)): -0.101/0.437\n",
      "[24/50][1/211] Loss_D: 0.034 Loss_G: 0.834 D(x): 1.109 D(G(z)): 0.214/0.270\n",
      "[24/50][101/211] Loss_D: 0.048 Loss_G: 0.770 D(x): 1.064 D(G(z)): 0.183/0.023\n",
      "[24/50][201/211] Loss_D: 0.105 Loss_G: 0.392 D(x): 0.903 D(G(z)): 0.267/0.539\n",
      "[25/50][1/211] Loss_D: 0.150 Loss_G: 0.595 D(x): 0.816 D(G(z)): 0.102/0.354\n",
      "[25/50][101/211] Loss_D: 0.018 Loss_G: 0.759 D(x): 1.020 D(G(z)): 0.160/0.198\n",
      "[25/50][201/211] Loss_D: 0.049 Loss_G: 0.427 D(x): 0.992 D(G(z)): 0.279/0.182\n",
      "[26/50][1/211] Loss_D: 0.155 Loss_G: 0.791 D(x): 1.094 D(G(z)): 0.352/-0.007\n",
      "[26/50][101/211] Loss_D: 0.072 Loss_G: 0.929 D(x): 0.871 D(G(z)): 0.055/0.157\n",
      "[26/50][201/211] Loss_D: 0.020 Loss_G: 0.906 D(x): 0.934 D(G(z)): 0.118/0.008\n",
      "[27/50][1/211] Loss_D: 0.049 Loss_G: 0.418 D(x): 0.945 D(G(z)): 0.246/0.180\n",
      "[27/50][101/211] Loss_D: 0.250 Loss_G: 1.078 D(x): 1.228 D(G(z)): 0.397/-0.193\n",
      "[27/50][201/211] Loss_D: 0.031 Loss_G: 0.634 D(x): 0.891 D(G(z)): 0.097/0.113\n",
      "[28/50][1/211] Loss_D: 0.183 Loss_G: 0.984 D(x): 0.802 D(G(z)): 0.049/0.212\n",
      "[28/50][101/211] Loss_D: 0.021 Loss_G: 0.336 D(x): 0.920 D(G(z)): 0.302/0.346\n",
      "[28/50][201/211] Loss_D: 0.030 Loss_G: 0.646 D(x): 0.770 D(G(z)): -0.008/0.022\n",
      "[29/50][1/211] Loss_D: 0.131 Loss_G: 0.421 D(x): 0.887 D(G(z)): 0.001/0.075\n",
      "[29/50][101/211] Loss_D: 0.086 Loss_G: 0.261 D(x): 0.975 D(G(z)): 0.213/0.267\n",
      "[29/50][201/211] Loss_D: 0.092 Loss_G: 0.831 D(x): 1.165 D(G(z)): 0.333/0.131\n",
      "[30/50][1/211] Loss_D: 0.131 Loss_G: 0.549 D(x): 1.084 D(G(z)): 0.317/0.058\n",
      "[30/50][101/211] Loss_D: 0.026 Loss_G: 0.676 D(x): 0.813 D(G(z)): 0.070/0.043\n",
      "[30/50][201/211] Loss_D: 0.101 Loss_G: 0.759 D(x): 0.873 D(G(z)): 0.051/0.295\n",
      "[31/50][1/211] Loss_D: 0.484 Loss_G: 0.648 D(x): 1.236 D(G(z)): 0.564/-0.049\n",
      "[31/50][101/211] Loss_D: 0.254 Loss_G: 0.838 D(x): 1.113 D(G(z)): 0.326/0.134\n",
      "[31/50][201/211] Loss_D: 0.176 Loss_G: 0.991 D(x): 0.786 D(G(z)): -0.091/0.096\n",
      "[32/50][1/211] Loss_D: 0.088 Loss_G: 0.956 D(x): 1.128 D(G(z)): 0.356/0.004\n",
      "[32/50][101/211] Loss_D: 0.041 Loss_G: 0.288 D(x): 0.836 D(G(z)): 0.139/0.215\n",
      "[32/50][201/211] Loss_D: 0.120 Loss_G: 0.398 D(x): 0.818 D(G(z)): 0.032/0.088\n",
      "[33/50][1/211] Loss_D: 0.069 Loss_G: 0.770 D(x): 1.126 D(G(z)): 0.383/0.214\n",
      "[33/50][101/211] Loss_D: 0.121 Loss_G: 0.391 D(x): 0.908 D(G(z)): 0.206/0.154\n",
      "[33/50][201/211] Loss_D: 0.035 Loss_G: 0.598 D(x): 0.941 D(G(z)): 0.331/0.191\n",
      "[34/50][1/211] Loss_D: 0.070 Loss_G: 0.898 D(x): 1.033 D(G(z)): 0.217/0.226\n",
      "[34/50][101/211] Loss_D: 0.205 Loss_G: 0.486 D(x): 0.807 D(G(z)): -0.007/0.141\n",
      "[34/50][201/211] Loss_D: 0.091 Loss_G: 0.360 D(x): 1.131 D(G(z)): 0.378/0.282\n",
      "[35/50][1/211] Loss_D: 0.038 Loss_G: 0.447 D(x): 0.902 D(G(z)): 0.126/0.076\n",
      "[35/50][101/211] Loss_D: 0.062 Loss_G: 0.952 D(x): 1.004 D(G(z)): 0.188/0.147\n",
      "[35/50][201/211] Loss_D: 0.135 Loss_G: 0.809 D(x): 0.888 D(G(z)): 0.141/-0.040\n",
      "[36/50][1/211] Loss_D: 0.154 Loss_G: 0.962 D(x): 0.762 D(G(z)): -0.065/0.151\n",
      "[36/50][101/211] Loss_D: 0.052 Loss_G: 0.908 D(x): 1.025 D(G(z)): 0.231/0.220\n",
      "[36/50][201/211] Loss_D: 0.043 Loss_G: 0.706 D(x): 0.977 D(G(z)): 0.189/0.332\n",
      "[37/50][1/211] Loss_D: 0.059 Loss_G: 1.130 D(x): 0.932 D(G(z)): 0.105/0.086\n",
      "[37/50][101/211] Loss_D: 0.105 Loss_G: 0.556 D(x): 0.739 D(G(z)): 0.048/0.262\n",
      "[37/50][201/211] Loss_D: 0.072 Loss_G: 0.578 D(x): 1.118 D(G(z)): 0.412/0.198\n",
      "[38/50][1/211] Loss_D: 0.099 Loss_G: 0.486 D(x): 0.835 D(G(z)): 0.009/0.052\n",
      "[38/50][101/211] Loss_D: 0.066 Loss_G: 0.955 D(x): 1.142 D(G(z)): 0.342/0.215\n",
      "[38/50][201/211] Loss_D: 0.050 Loss_G: 0.817 D(x): 1.065 D(G(z)): 0.223/0.005\n",
      "[39/50][1/211] Loss_D: 0.030 Loss_G: 0.642 D(x): 0.979 D(G(z)): 0.252/0.176\n",
      "[39/50][101/211] Loss_D: 0.142 Loss_G: 0.349 D(x): 1.069 D(G(z)): 0.286/0.224\n",
      "[39/50][201/211] Loss_D: 0.079 Loss_G: 0.936 D(x): 0.835 D(G(z)): 0.029/0.132\n",
      "[40/50][1/211] Loss_D: 0.017 Loss_G: 0.702 D(x): 0.886 D(G(z)): 0.134/0.127\n",
      "[40/50][101/211] Loss_D: 0.071 Loss_G: 0.503 D(x): 1.071 D(G(z)): 0.313/0.141\n",
      "[40/50][201/211] Loss_D: 0.224 Loss_G: 0.559 D(x): 1.124 D(G(z)): 0.367/0.147\n",
      "[41/50][1/211] Loss_D: 0.039 Loss_G: 0.819 D(x): 0.990 D(G(z)): 0.117/-0.054\n",
      "[41/50][101/211] Loss_D: 0.244 Loss_G: 0.525 D(x): 1.043 D(G(z)): 0.340/0.121\n",
      "[41/50][201/211] Loss_D: 0.113 Loss_G: 0.543 D(x): 0.855 D(G(z)): -0.031/0.196\n",
      "[42/50][1/211] Loss_D: 0.077 Loss_G: 0.673 D(x): 0.917 D(G(z)): 0.202/0.351\n",
      "[42/50][101/211] Loss_D: 0.096 Loss_G: 0.624 D(x): 0.896 D(G(z)): 0.156/0.403\n",
      "[42/50][201/211] Loss_D: 0.020 Loss_G: 0.573 D(x): 0.789 D(G(z)): 0.021/0.113\n",
      "[43/50][1/211] Loss_D: 0.199 Loss_G: 0.749 D(x): 0.770 D(G(z)): 0.031/0.320\n",
      "[43/50][101/211] Loss_D: 0.022 Loss_G: 0.697 D(x): 0.852 D(G(z)): 0.039/-0.119\n",
      "[43/50][201/211] Loss_D: 0.128 Loss_G: 0.345 D(x): 1.065 D(G(z)): 0.280/0.191\n",
      "[44/50][1/211] Loss_D: 0.059 Loss_G: 0.715 D(x): 0.978 D(G(z)): 0.240/0.234\n",
      "[44/50][101/211] Loss_D: 0.033 Loss_G: 0.445 D(x): 0.925 D(G(z)): 0.153/0.202\n",
      "[44/50][201/211] Loss_D: 0.034 Loss_G: 0.866 D(x): 1.143 D(G(z)): 0.333/0.263\n",
      "[45/50][1/211] Loss_D: 0.057 Loss_G: 0.667 D(x): 0.914 D(G(z)): 0.078/0.222\n",
      "[45/50][101/211] Loss_D: 0.043 Loss_G: 0.703 D(x): 0.909 D(G(z)): 0.137/0.256\n",
      "[45/50][201/211] Loss_D: 0.035 Loss_G: 0.827 D(x): 0.828 D(G(z)): 0.029/0.087\n",
      "[46/50][1/211] Loss_D: 0.049 Loss_G: 0.831 D(x): 0.787 D(G(z)): 0.027/0.064\n",
      "[46/50][101/211] Loss_D: 0.007 Loss_G: 0.624 D(x): 1.009 D(G(z)): 0.242/0.196\n",
      "[46/50][201/211] Loss_D: 0.019 Loss_G: 0.480 D(x): 0.965 D(G(z)): 0.211/0.323\n",
      "[47/50][1/211] Loss_D: 0.168 Loss_G: 0.909 D(x): 1.094 D(G(z)): 0.257/-0.052\n",
      "[47/50][101/211] Loss_D: 0.036 Loss_G: 0.885 D(x): 1.123 D(G(z)): 0.314/0.181\n",
      "[47/50][201/211] Loss_D: 0.031 Loss_G: 0.795 D(x): 0.910 D(G(z)): 0.168/0.136\n",
      "[48/50][1/211] Loss_D: 0.036 Loss_G: 0.657 D(x): 1.107 D(G(z)): 0.289/0.173\n",
      "[48/50][101/211] Loss_D: 0.069 Loss_G: 0.482 D(x): 1.040 D(G(z)): 0.120/0.095\n",
      "[48/50][201/211] Loss_D: 0.066 Loss_G: 0.992 D(x): 0.906 D(G(z)): 0.187/0.093\n",
      "[49/50][1/211] Loss_D: 0.051 Loss_G: 0.324 D(x): 1.001 D(G(z)): 0.331/0.235\n",
      "[49/50][101/211] Loss_D: 0.035 Loss_G: 0.698 D(x): 0.961 D(G(z)): 0.151/0.228\n",
      "[49/50][201/211] Loss_D: 0.043 Loss_G: 0.698 D(x): 0.924 D(G(z)): 0.153/0.010\n",
      "[50/50][1/211] Loss_D: 0.054 Loss_G: 0.391 D(x): 0.871 D(G(z)): 0.088/0.148\n",
      "[50/50][101/211] Loss_D: 0.067 Loss_G: 0.777 D(x): 0.919 D(G(z)): 0.238/0.280\n",
      "[50/50][201/211] Loss_D: 0.171 Loss_G: 0.803 D(x): 0.939 D(G(z)): 0.395/0.052\n"
     ]
    },
    {
     "data": {
      "image/png": "[encoded data removed]",
      "text/plain": [
       "<Figure size 432x288 with 1 Axes>"
      ]
     },
     "metadata": {},
     "output_type": "display_data"
    },
    {
     "data": {
      "image/png": "[encoded data removed]",
      "text/plain": [
       "<Figure size 432x288 with 1 Axes>"
      ]
     },
     "metadata": {},
     "output_type": "display_data"
    }
   ],
   "source": [
    "# 学習のループ\n",
    "n_epoch = 50\n",
    "D_loss = []\n",
    "G_loss = []\n",
    "D_loss_var = []\n",
    "for epoch in range(n_epoch):\n",
    "    #D_loss_sum = 0\n",
    "    #G_loss_sum = 0\n",
    "    D_sum = []\n",
    "    G_sum = []\n",
    "    for itr, data in enumerate(dataloaders['train']):\n",
    "        real_image = data[0].to(device)     # 元配列\n",
    "        #print(real_image)\n",
    "        sample_size = real_image.size(0)    # 配列数\n",
    "        noise = torch.randn(sample_size, nz, 1, device=device)   # 正規分布からノイズを生成\n",
    "        \n",
    "        real_target = torch.full((sample_size,), random.uniform(0.7, 1.2), device=device)     # 元配列に対する識別信号の目標値「1」\n",
    "        fake_target = torch.full((sample_size,), random.uniform(0.0, 0.3), device=device)     # 贋作配列に対する識別信号の目標値「0」\n",
    "        \n",
    "        ############################\n",
    "        # 識別器Dの更新\n",
    "        ###########################\n",
    "        netD.zero_grad()    # 勾配の初期化\n",
    "\n",
    "        output = netD(real_image)   # 識別器Dで元配列に対する識別信号を出力\n",
    "        errD_real = criterion(output, real_target)  # 元配列に対する識別信号の損失値\n",
    "        D_x = output.mean().item()\n",
    "\n",
    "        fake_image = netG(noise)    # 生成器Gでノイズから贋作配列を生成\n",
    "        #print(fake_image.detach())\n",
    "        output = netD(fake_image.detach())  # 識別器Dで元配列に対する識別信号を出力\n",
    "        errD_fake = criterion(output, fake_target)  # 贋作配列に対する識別信号の損失値\n",
    "        D_G_z1 = output.mean().item()\n",
    "\n",
    "        errD = errD_real + errD_fake    # 識別器Dの全体の損失\n",
    "        #D_loss_sum += errD\n",
    "        D_sum.append(errD.cpu().detach().numpy())\n",
    "        #print(\"D_sum is\",D_sum)\n",
    "        errD.backward()    # 誤差逆伝播\n",
    "        optimizerD.step()   # Dのパラメーターを更新\n",
    "\n",
    "        ############################\n",
    "        # 生成器Gの更新\n",
    "        ###########################\n",
    "        netG.zero_grad()    # 勾配の初期化\n",
    "        \n",
    "        output = netD(fake_image)   # 更新した識別器Dで改めて贋作配列に対する識別信号を出力\n",
    "        errG = criterion(output, real_target)   # 生成器Gの損失値。Dに贋作配列を元配列と誤認させたいため目標値は「1」\n",
    "        #G_loss_sum += errG\n",
    "        G_sum.append(errG.cpu().detach().numpy())\n",
    "        #print(errG.cpu().detach().numpy())\n",
    "        #print(\"G_sum is\",G_sum)\n",
    "        errG.backward()     # 誤差逆伝播\n",
    "        D_G_z2 = output.mean().item()\n",
    "\n",
    "        optimizerG.step()   # Gのパラメータを更新\n",
    "\n",
    "        if itr % display_interval == 0: \n",
    "            print('[{}/{}][{}/{}] Loss_D: {:.3f} Loss_G: {:.3f} D(x): {:.3f} D(G(z)): {:.3f}/{:.3f}'\n",
    "                  .format(epoch + 1, n_epoch,\n",
    "                          itr + 1, len(dataloaders['train']),\n",
    "                          errD.item(), errG.item(), D_x, D_G_z1, D_G_z2))\n",
    "            \n",
    "        if epoch == 0 and itr == 0:     # 初回に元配列を保存する\n",
    "            sem.vec2seq_save(\"real_pos_seq\", real_image.cpu(), 1)\n",
    "\n",
    "        #print(\"[\",itr,\"] SUM_lossD:\",D_loss_sum)\n",
    "        #print(\"[\",itr,\"] SUM_lossG:\",G_loss_sum)\n",
    "    ############################\n",
    "    # Lossの保存\n",
    "    ############################\n",
    "    #print(\"epoch\",epoch+1,\"D_loss is\",D_loss)\n",
    "    #print(\"epoch\",epoch+1,\"D_mean is\",mean(list(map(float, D_sum))))\n",
    "    #print(\"epoch\",epoch+1,\"G_loss is\",G_loss)\n",
    "    #print(\"epoch\",epoch+1,\"G_mean is\",mean(list(map(float, G_sum))))\n",
    "    D_loss.append(mean(list(map(float, D_sum)))) #1epochごとのDiscreminaterのLossの平均を格納\n",
    "    G_loss.append(mean(list(map(float, G_sum)))) #1epochごとのGeneratorのLossの平均を格納\n",
    "    D_loss_var.append(variance(list(map(float, D_sum))))\n",
    "    #print(\"D_losses\",D_loss)\n",
    "    #print(\"G_losses\",G_loss)\n",
    "    #print(fake_image.detach())\n",
    "#     vutils.save_image(fake_image.detach(), '{}/fake_samples_epoch_{:03d}.png'.format(outf, epoch + 1),\n",
    "#                       normalize=True, nrow=10)\n",
    "\n",
    "    ############################\n",
    "    # 確認用の配列生成とその配列の保存\n",
    "    ############################\n",
    "    if (epoch + 1) % 5 == 0:   # 5エポックごとにfakeseqを保存する\n",
    "        filename = 'fake_pos_seq_epoch' + str(epoch + 1)\n",
    "        fake_image = netG(fixed_noise)  # 1エポック終了ごとに確認用の贋作配列を生成する\n",
    "        sem.vec2seq_save(filename, fake_image.cpu().detach(), batch_size)\n",
    "        output_fasta = 'fake_fasta' + str(epoch + 1)\n",
    "        optional_name = 'fakeEpoch' + str(epoch + 1) + '_'\n",
    "        sem.txt2fasta(filename, output_fasta, optional_name)\n",
    "#         torch.save(netG.state_dict(), '{}/netG_epoch_{}.pth'.format(outf, epoch + 1))\n",
    "#         torch.save(netD.state_dict(), '{}/netD_epoch_{}.pth'.format(outf, epoch + 1))\n",
    "\n",
    "############################\n",
    "# 結果の表示\n",
    "############################\n",
    "x_num = np.arange(1,n_epoch + 1)\n",
    "#print(x_num)\n",
    "matplotlib.style.use('ggplot')\n",
    "fig1, DGx = plt.subplots()\n",
    "\n",
    "DGx.set_xlabel('epoch')\n",
    "DGx.set_ylabel('Loss')\n",
    "\n",
    "DGx.plot(x_num,D_loss,label='Discriminator Loss')\n",
    "DGx.plot(x_num,G_loss,label='Generater Loss')\n",
    "DGx.legend(loc = 'best')\n",
    "\n",
    "DGx.set_title('Losses of Discriminator and Generater')\n",
    "plt.title('Losses of Discreminater and Generater')\n",
    "\n",
    "fig2, Var = plt.subplots()\n",
    "Var.set_xlabel('epoch')\n",
    "Var.set_ylabel('Var')\n",
    "\n",
    "Var.plot(x_num,D_loss_var,label='Variance of Discriminator')\n",
    "Var.legend(loc = 'best')\n",
    "\n",
    "plt.show\n",
    "\n",
    "fig1.savefig('Losses.png')\n",
    "fig2.savefig('Dis_Var.png')\n"
   ]
  },
  {
   "cell_type": "code",
   "execution_count": null,
   "metadata": {
    "colab": {},
    "colab_type": "code",
    "id": "0jIOzZdu6zyw"
   },
   "outputs": [],
   "source": []
  }
 ],
 "metadata": {
  "accelerator": "GPU",
  "colab": {
   "collapsed_sections": [],
   "name": "LSGAN_ver2.ipynb",
   "provenance": [],
   "version": "0.3.2"
  },
  "kernelspec": {
   "display_name": "Python 3",
   "language": "python",
   "name": "python3"
  },
  "language_info": {
   "codemirror_mode": {
    "name": "ipython",
    "version": 3
   },
   "file_extension": ".py",
   "mimetype": "text/x-python",
   "name": "python",
   "nbconvert_exporter": "python",
   "pygments_lexer": "ipython3",
   "version": "3.6.7"
  }
 },
 "nbformat": 4,
 "nbformat_minor": 2
}
