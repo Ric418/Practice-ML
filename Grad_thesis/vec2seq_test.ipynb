{
 "cells": [
  {
   "cell_type": "code",
   "execution_count": 1,
   "metadata": {},
   "outputs": [],
   "source": [
    "import numpy as np\n",
    "import pandas as pd\n",
    "import matplotlib.pyplot as plt\n",
    "\n",
    "import torch\n",
    "import torch.nn as nn\n",
    "\n",
    "import seq_modules as sem"
   ]
  },
  {
   "cell_type": "code",
   "execution_count": 2,
   "metadata": {},
   "outputs": [
    {
     "data": {
      "text/plain": [
       "(64, 4, 128)"
      ]
     },
     "execution_count": 2,
     "metadata": {},
     "output_type": "execute_result"
    }
   ],
   "source": [
    "sequence=np.random.random((64,4,128))\n",
    "sequence.shape"
   ]
  },
  {
   "cell_type": "code",
   "execution_count": 3,
   "metadata": {},
   "outputs": [
    {
     "data": {
      "text/plain": [
       "torch.Size([64, 4, 128])"
      ]
     },
     "execution_count": 3,
     "metadata": {},
     "output_type": "execute_result"
    }
   ],
   "source": [
    "seq_tensor = torch.from_numpy(sequence)\n",
    "#seq_tensor\n",
    "seq_tensor.shape"
   ]
  },
  {
   "cell_type": "code",
   "execution_count": 4,
   "metadata": {},
   "outputs": [
    {
     "data": {
      "text/plain": [
       "tensor([[[0.4866, 0.0758, 0.7722,  ..., 0.5083, 0.1511, 0.6829],\n",
       "         [0.9508, 0.5491, 0.8211,  ..., 0.2590, 0.9330, 0.8079],\n",
       "         [0.5125, 0.4158, 0.6630,  ..., 0.3028, 0.2247, 0.7412],\n",
       "         [0.2421, 0.7496, 0.0974,  ..., 0.4746, 0.0633, 0.2133]],\n",
       "\n",
       "        [[0.6145, 0.2212, 0.1008,  ..., 0.0271, 0.8672, 0.7774],\n",
       "         [0.4914, 0.4390, 0.2692,  ..., 0.5794, 0.0591, 0.5294],\n",
       "         [0.0376, 0.0443, 0.3925,  ..., 0.2266, 0.1918, 0.4469],\n",
       "         [0.6987, 0.3566, 0.8508,  ..., 0.6514, 0.5083, 0.0192]],\n",
       "\n",
       "        [[0.8107, 0.1969, 0.3577,  ..., 0.4417, 0.3487, 0.1356],\n",
       "         [0.0122, 0.6581, 0.1684,  ..., 0.9735, 0.4497, 0.7659],\n",
       "         [0.2486, 0.6778, 0.7520,  ..., 0.0585, 0.6964, 0.6199],\n",
       "         [0.3533, 0.0858, 0.4541,  ..., 0.8797, 0.1954, 0.5544]],\n",
       "\n",
       "        ...,\n",
       "\n",
       "        [[0.3272, 0.3440, 0.6588,  ..., 0.8673, 0.2777, 0.9607],\n",
       "         [0.0282, 0.1577, 0.9455,  ..., 0.9896, 0.4359, 0.4930],\n",
       "         [0.9582, 0.3660, 0.1751,  ..., 0.6995, 0.7922, 0.4565],\n",
       "         [0.5209, 0.2467, 0.4670,  ..., 0.4680, 0.5317, 0.3248]],\n",
       "\n",
       "        [[0.1364, 0.0219, 0.0297,  ..., 0.3422, 0.3563, 0.5994],\n",
       "         [0.0683, 0.8280, 0.0328,  ..., 0.2706, 0.1874, 0.5937],\n",
       "         [0.9485, 0.2239, 0.3926,  ..., 0.4829, 0.2398, 0.4482],\n",
       "         [0.7468, 0.3181, 0.1757,  ..., 0.5303, 0.8651, 0.8998]],\n",
       "\n",
       "        [[0.9881, 0.7747, 0.6456,  ..., 0.4151, 0.3618, 0.2952],\n",
       "         [0.2367, 0.2221, 0.7334,  ..., 0.9462, 0.6347, 0.7152],\n",
       "         [0.3661, 0.0083, 0.0106,  ..., 0.3422, 0.4234, 0.0132],\n",
       "         [0.7934, 0.6171, 0.2719,  ..., 0.6285, 0.3441, 0.3438]]],\n",
       "       device='cuda:0', dtype=torch.float64)"
      ]
     },
     "execution_count": 4,
     "metadata": {},
     "output_type": "execute_result"
    }
   ],
   "source": [
    "seq_tensor.to('cuda')"
   ]
  },
  {
   "cell_type": "code",
   "execution_count": 5,
   "metadata": {},
   "outputs": [],
   "source": [
    "BATCH = 64\n",
    "n_epoch = 50"
   ]
  },
  {
   "cell_type": "code",
   "execution_count": 6,
   "metadata": {},
   "outputs": [],
   "source": [
    "for epoch in range(n_epoch):\n",
    "    if (epoch + 1) % 5 ==0:\n",
    "        filename = \"fake_sequence\" + str(epoch+1)\n",
    "        sem.vec2seq_save(filename, seq_tensor, BATCH)"
   ]
  },
  {
   "cell_type": "code",
   "execution_count": null,
   "metadata": {},
   "outputs": [],
   "source": []
  }
 ],
 "metadata": {
  "kernelspec": {
   "display_name": "Python 3",
   "language": "python",
   "name": "python3"
  },
  "language_info": {
   "codemirror_mode": {
    "name": "ipython",
    "version": 3
   },
   "file_extension": ".py",
   "mimetype": "text/x-python",
   "name": "python",
   "nbconvert_exporter": "python",
   "pygments_lexer": "ipython3",
   "version": "3.6.7"
  }
 },
 "nbformat": 4,
 "nbformat_minor": 2
}
