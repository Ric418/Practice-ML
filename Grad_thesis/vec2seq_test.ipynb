{
 "cells": [
  {
   "cell_type": "code",
   "execution_count": 1,
   "metadata": {},
   "outputs": [],
   "source": [
    "import numpy as np\n",
    "import pandas as pd\n",
    "import matplotlib.pyplot as plt\n",
    "\n",
    "import torch\n",
    "import torch.nn as nn\n",
    "\n",
    "import seq_modules as sem"
   ]
  },
  {
   "cell_type": "code",
   "execution_count": 2,
   "metadata": {},
   "outputs": [
    {
     "data": {
      "text/plain": [
       "(64, 4, 128)"
      ]
     },
     "execution_count": 2,
     "metadata": {},
     "output_type": "execute_result"
    }
   ],
   "source": [
    "sequence=np.random.random((64,4,128))\n",
    "sequence.shape"
   ]
  },
  {
   "cell_type": "code",
   "execution_count": 3,
   "metadata": {},
   "outputs": [
    {
     "data": {
      "text/plain": [
       "torch.Size([64, 4, 128])"
      ]
     },
     "execution_count": 3,
     "metadata": {},
     "output_type": "execute_result"
    }
   ],
   "source": [
    "seq_tensor = torch.from_numpy(sequence)\n",
    "#seq_tensor\n",
    "seq_tensor.shape"
   ]
  },
  {
   "cell_type": "code",
   "execution_count": 4,
   "metadata": {},
   "outputs": [
    {
     "data": {
      "text/plain": [
       "tensor([[[0.4739, 0.0771, 0.9173,  ..., 0.2283, 0.5375, 0.5685],\n",
       "         [0.6295, 0.2000, 0.2995,  ..., 0.8720, 0.9907, 0.4524],\n",
       "         [0.5979, 0.9191, 0.6383,  ..., 0.2351, 0.9828, 0.8884],\n",
       "         [0.4722, 0.4898, 0.0696,  ..., 0.5072, 0.9990, 0.7798]],\n",
       "\n",
       "        [[0.6640, 0.0699, 0.2498,  ..., 0.3255, 0.9141, 0.8081],\n",
       "         [0.6997, 0.4578, 0.3163,  ..., 0.6754, 0.0282, 0.2162],\n",
       "         [0.4862, 0.6956, 0.5039,  ..., 0.7509, 0.3707, 0.4342],\n",
       "         [0.2166, 0.5513, 0.5243,  ..., 0.0143, 0.2150, 0.8189]],\n",
       "\n",
       "        [[0.4143, 0.1629, 0.9527,  ..., 0.8204, 0.9272, 0.2771],\n",
       "         [0.9029, 0.5275, 0.6466,  ..., 0.8963, 0.1410, 0.4462],\n",
       "         [0.5126, 0.6396, 0.7411,  ..., 0.9219, 0.5338, 0.4737],\n",
       "         [0.2998, 0.8862, 0.3729,  ..., 0.3983, 0.9571, 0.9159]],\n",
       "\n",
       "        ...,\n",
       "\n",
       "        [[0.4683, 0.6041, 0.2872,  ..., 0.9038, 0.0649, 0.5131],\n",
       "         [0.5092, 0.9225, 0.3118,  ..., 0.7623, 0.8652, 0.0100],\n",
       "         [0.5075, 0.8126, 0.8873,  ..., 0.6553, 0.1534, 0.9870],\n",
       "         [0.0382, 0.1503, 0.6283,  ..., 0.3061, 0.5574, 0.3510]],\n",
       "\n",
       "        [[0.7048, 0.3453, 0.2116,  ..., 0.8792, 0.0790, 0.0282],\n",
       "         [0.2661, 0.2528, 0.3282,  ..., 0.0373, 0.4479, 0.8789],\n",
       "         [0.3639, 0.7156, 0.3182,  ..., 0.1613, 0.3626, 0.8075],\n",
       "         [0.6580, 0.4620, 0.2203,  ..., 0.9078, 0.8336, 0.7910]],\n",
       "\n",
       "        [[0.0635, 0.7450, 0.7476,  ..., 0.1755, 0.2432, 0.9578],\n",
       "         [0.0013, 0.4351, 0.1705,  ..., 0.6469, 0.1943, 0.6012],\n",
       "         [0.7246, 0.3057, 0.9533,  ..., 0.1660, 0.9079, 0.7197],\n",
       "         [0.7402, 0.4256, 0.3581,  ..., 0.9815, 0.4597, 0.6298]]],\n",
       "       device='cuda:0', dtype=torch.float64)"
      ]
     },
     "execution_count": 4,
     "metadata": {},
     "output_type": "execute_result"
    }
   ],
   "source": [
    "seq_tensor.to('cuda')"
   ]
  },
  {
   "cell_type": "code",
   "execution_count": 6,
   "metadata": {},
   "outputs": [],
   "source": [
    "BATCH = 64\n",
    "n_epoch = 50"
   ]
  },
  {
   "cell_type": "code",
   "execution_count": 7,
   "metadata": {},
   "outputs": [],
   "source": [
    "for epoch in range(n_epoch):\n",
    "    if (epoch + 1) % 5 ==0:\n",
    "        sem.vec2seq_save(epoch, seq_tensor, BATCH)"
   ]
  },
  {
   "cell_type": "code",
   "execution_count": null,
   "metadata": {},
   "outputs": [],
   "source": []
  }
 ],
 "metadata": {
  "kernelspec": {
   "display_name": "Python 3",
   "language": "python",
   "name": "python3"
  },
  "language_info": {
   "codemirror_mode": {
    "name": "ipython",
    "version": 3
   },
   "file_extension": ".py",
   "mimetype": "text/x-python",
   "name": "python",
   "nbconvert_exporter": "python",
   "pygments_lexer": "ipython3",
   "version": "3.6.7"
  }
 },
 "nbformat": 4,
 "nbformat_minor": 2
}
