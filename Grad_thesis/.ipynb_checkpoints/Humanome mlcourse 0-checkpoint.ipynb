{
 "cells": [
  {
   "cell_type": "markdown",
   "metadata": {},
   "source": [
    "## The 0th lesson MLcourse delivered by [HumanomeLab](https://humanome.jp/)\n",
    "- about Visualizing and Preparing data.\n",
    "- Please refer to this [Original](https://github.com/HumanomeLab/mlcourse/blob/master/0_data_prep_and_visualization.ipynb).\n",
    "- This is practice note of above lesson."
   ]
  },
  {
   "cell_type": "code",
   "execution_count": 3,
   "metadata": {
    "scrolled": true
   },
   "outputs": [
    {
     "name": "stdout",
     "output_type": "stream",
     "text": [
      "True\n"
     ]
    }
   ],
   "source": [
    "import numpy as np\n",
    "import pandas as pd\n",
    "import torch\n",
    "print(torch.cuda.is_available())\n",
    "data = pd.read_csv(\"data/yeast_his3.csv\")"
   ]
  },
  {
   "cell_type": "markdown",
   "metadata": {},
   "source": [
    "It show head 5 rows which we read"
   ]
  },
  {
   "cell_type": "code",
   "execution_count": 4,
   "metadata": {},
   "outputs": [
    {
     "data": {
      "text/html": [
       "<div>\n",
       "<style scoped>\n",
       "    .dataframe tbody tr th:only-of-type {\n",
       "        vertical-align: middle;\n",
       "    }\n",
       "\n",
       "    .dataframe tbody tr th {\n",
       "        vertical-align: top;\n",
       "    }\n",
       "\n",
       "    .dataframe thead th {\n",
       "        text-align: right;\n",
       "    }\n",
       "</style>\n",
       "<table border=\"1\" class=\"dataframe\">\n",
       "  <thead>\n",
       "    <tr style=\"text-align: right;\">\n",
       "      <th></th>\n",
       "      <th>PhotoID</th>\n",
       "      <th>CellID</th>\n",
       "      <th>Cgroup</th>\n",
       "      <th>Agroup</th>\n",
       "      <th>Dgroup</th>\n",
       "      <th>C11-1</th>\n",
       "      <th>C11-2</th>\n",
       "      <th>C101</th>\n",
       "      <th>C103</th>\n",
       "      <th>C104</th>\n",
       "      <th>...</th>\n",
       "      <th>D111</th>\n",
       "      <th>D112</th>\n",
       "      <th>A101</th>\n",
       "      <th>A102</th>\n",
       "      <th>A103</th>\n",
       "      <th>A104</th>\n",
       "      <th>A120</th>\n",
       "      <th>A121</th>\n",
       "      <th>A122</th>\n",
       "      <th>A123</th>\n",
       "    </tr>\n",
       "  </thead>\n",
       "  <tbody>\n",
       "    <tr>\n",
       "      <th>0</th>\n",
       "      <td>2</td>\n",
       "      <td>0</td>\n",
       "      <td>medium</td>\n",
       "      <td>iso</td>\n",
       "      <td>A1</td>\n",
       "      <td>853.0</td>\n",
       "      <td>347.0</td>\n",
       "      <td>1200.0</td>\n",
       "      <td>35.4</td>\n",
       "      <td>29.1</td>\n",
       "      <td>...</td>\n",
       "      <td>NaN</td>\n",
       "      <td>0.293</td>\n",
       "      <td>0.256</td>\n",
       "      <td>0.629</td>\n",
       "      <td>NaN</td>\n",
       "      <td>0.124</td>\n",
       "      <td>118.0</td>\n",
       "      <td>47.3</td>\n",
       "      <td>3.0</td>\n",
       "      <td>0.537</td>\n",
       "    </tr>\n",
       "    <tr>\n",
       "      <th>1</th>\n",
       "      <td>2</td>\n",
       "      <td>1</td>\n",
       "      <td>no</td>\n",
       "      <td>B</td>\n",
       "      <td>A</td>\n",
       "      <td>822.0</td>\n",
       "      <td>NaN</td>\n",
       "      <td>822.0</td>\n",
       "      <td>34.4</td>\n",
       "      <td>29.3</td>\n",
       "      <td>...</td>\n",
       "      <td>NaN</td>\n",
       "      <td>NaN</td>\n",
       "      <td>0.127</td>\n",
       "      <td>NaN</td>\n",
       "      <td>NaN</td>\n",
       "      <td>NaN</td>\n",
       "      <td>64.4</td>\n",
       "      <td>26.3</td>\n",
       "      <td>2.0</td>\n",
       "      <td>0.375</td>\n",
       "    </tr>\n",
       "    <tr>\n",
       "      <th>2</th>\n",
       "      <td>2</td>\n",
       "      <td>2</td>\n",
       "      <td>large</td>\n",
       "      <td>F</td>\n",
       "      <td>C</td>\n",
       "      <td>791.0</td>\n",
       "      <td>503.0</td>\n",
       "      <td>1290.0</td>\n",
       "      <td>34.1</td>\n",
       "      <td>29.3</td>\n",
       "      <td>...</td>\n",
       "      <td>NaN</td>\n",
       "      <td>0.516</td>\n",
       "      <td>0.165</td>\n",
       "      <td>0.528</td>\n",
       "      <td>0.000242</td>\n",
       "      <td>NaN</td>\n",
       "      <td>119.0</td>\n",
       "      <td>46.8</td>\n",
       "      <td>4.0</td>\n",
       "      <td>0.832</td>\n",
       "    </tr>\n",
       "    <tr>\n",
       "      <th>3</th>\n",
       "      <td>2</td>\n",
       "      <td>3</td>\n",
       "      <td>medium</td>\n",
       "      <td>iso</td>\n",
       "      <td>B</td>\n",
       "      <td>731.0</td>\n",
       "      <td>354.0</td>\n",
       "      <td>1090.0</td>\n",
       "      <td>34.0</td>\n",
       "      <td>26.0</td>\n",
       "      <td>...</td>\n",
       "      <td>NaN</td>\n",
       "      <td>0.463</td>\n",
       "      <td>0.266</td>\n",
       "      <td>0.737</td>\n",
       "      <td>NaN</td>\n",
       "      <td>0.181</td>\n",
       "      <td>112.0</td>\n",
       "      <td>46.3</td>\n",
       "      <td>4.0</td>\n",
       "      <td>0.519</td>\n",
       "    </tr>\n",
       "    <tr>\n",
       "      <th>4</th>\n",
       "      <td>2</td>\n",
       "      <td>4</td>\n",
       "      <td>medium</td>\n",
       "      <td>iso</td>\n",
       "      <td>C</td>\n",
       "      <td>841.0</td>\n",
       "      <td>388.0</td>\n",
       "      <td>1230.0</td>\n",
       "      <td>34.5</td>\n",
       "      <td>29.6</td>\n",
       "      <td>...</td>\n",
       "      <td>NaN</td>\n",
       "      <td>0.290</td>\n",
       "      <td>0.264</td>\n",
       "      <td>0.914</td>\n",
       "      <td>NaN</td>\n",
       "      <td>0.159</td>\n",
       "      <td>110.0</td>\n",
       "      <td>47.4</td>\n",
       "      <td>3.0</td>\n",
       "      <td>0.415</td>\n",
       "    </tr>\n",
       "  </tbody>\n",
       "</table>\n",
       "<p>5 rows × 38 columns</p>\n",
       "</div>"
      ],
      "text/plain": [
       "   PhotoID  CellID  Cgroup Agroup Dgroup  C11-1  C11-2    C101  C103  C104  \\\n",
       "0        2       0  medium    iso     A1  853.0  347.0  1200.0  35.4  29.1   \n",
       "1        2       1      no      B      A  822.0    NaN   822.0  34.4  29.3   \n",
       "2        2       2   large      F      C  791.0  503.0  1290.0  34.1  29.3   \n",
       "3        2       3  medium    iso      B  731.0  354.0  1090.0  34.0  26.0   \n",
       "4        2       4  medium    iso      C  841.0  388.0  1230.0  34.5  29.6   \n",
       "\n",
       "   ...    D111   D112   A101   A102      A103   A104   A120  A121  A122   A123  \n",
       "0  ...     NaN  0.293  0.256  0.629       NaN  0.124  118.0  47.3   3.0  0.537  \n",
       "1  ...     NaN    NaN  0.127    NaN       NaN    NaN   64.4  26.3   2.0  0.375  \n",
       "2  ...     NaN  0.516  0.165  0.528  0.000242    NaN  119.0  46.8   4.0  0.832  \n",
       "3  ...     NaN  0.463  0.266  0.737       NaN  0.181  112.0  46.3   4.0  0.519  \n",
       "4  ...     NaN  0.290  0.264  0.914       NaN  0.159  110.0  47.4   3.0  0.415  \n",
       "\n",
       "[5 rows x 38 columns]"
      ]
     },
     "execution_count": 4,
     "metadata": {},
     "output_type": "execute_result"
    }
   ],
   "source": [
    "data.head()"
   ]
  },
  {
   "cell_type": "markdown",
   "metadata": {},
   "source": [
    "There are many null data in this dataframe. In this case, to focus on the chief aim we narrow it down to data which have few(or no) null data.\n",
    "\n",
    "For instance, counting nunmber of null data, there are some null data in almost parameter."
   ]
  },
  {
   "cell_type": "code",
   "execution_count": 5,
   "metadata": {},
   "outputs": [
    {
     "data": {
      "text/plain": [
       "PhotoID      0\n",
       "CellID       0\n",
       "Cgroup       0\n",
       "Agroup       0\n",
       "Dgroup       0\n",
       "C11-1        5\n",
       "C11-2      120\n",
       "C101         5\n",
       "C103         5\n",
       "C104         5\n",
       "C105       120\n",
       "C106       120\n",
       "C108       127\n",
       "C109       120\n",
       "C110       120\n",
       "C111       120\n",
       "C112       120\n",
       "C113       120\n",
       "C114       127\n",
       "C115         5\n",
       "C107       120\n",
       "D105       264\n",
       "D106       121\n",
       "D104        86\n",
       "D107        86\n",
       "D109       275\n",
       "D108       121\n",
       "D110       200\n",
       "D111       378\n",
       "D112       121\n",
       "A101         6\n",
       "A102       120\n",
       "A103       335\n",
       "A104       163\n",
       "A120         6\n",
       "A121         6\n",
       "A122         6\n",
       "A123         6\n",
       "dtype: int64"
      ]
     },
     "execution_count": 5,
     "metadata": {},
     "output_type": "execute_result"
    }
   ],
   "source": [
    "np.sum(data.isnull(), axis=0)"
   ]
  },
  {
   "cell_type": "markdown",
   "metadata": {},
   "source": [
    "In this lesson, for convenience, pick up parameter have few null data and exclude cells have null data from target of analysing."
   ]
  },
  {
   "cell_type": "code",
   "execution_count": 6,
   "metadata": {},
   "outputs": [],
   "source": [
    "columns = [\"C101\", \"C103\", \"C104\",\"C115\",\"A101\",\"A120\",\"A121\",\"A122\",\"A123\"]\n",
    "# it makes only \"Cgroup\" and data written in columns\n",
    "cell_features_pre = data[[\"Cgroup\"] + columns]\n",
    "# exclude cells have null data\n",
    "cell_features = cell_features_pre[np.sum(cell_features_pre.isnull(), axis=1) == 0]"
   ]
  },
  {
   "cell_type": "markdown",
   "metadata": {},
   "source": [
    "Next two cells confirms rows and columns of `cell_features_pre` and `cell_features`"
   ]
  },
  {
   "cell_type": "code",
   "execution_count": 7,
   "metadata": {},
   "outputs": [
    {
     "data": {
      "text/plain": [
       "(378, 10)"
      ]
     },
     "execution_count": 7,
     "metadata": {},
     "output_type": "execute_result"
    }
   ],
   "source": [
    "cell_features_pre.shape"
   ]
  },
  {
   "cell_type": "code",
   "execution_count": 8,
   "metadata": {},
   "outputs": [
    {
     "data": {
      "text/plain": [
       "(372, 10)"
      ]
     },
     "execution_count": 8,
     "metadata": {},
     "output_type": "execute_result"
    }
   ],
   "source": [
    "cell_features.shape"
   ]
  },
  {
   "cell_type": "markdown",
   "metadata": {},
   "source": [
    "We can recognize 6 rows (cells) data have deleted. Incidentally, deleted data below 6 cells in this table."
   ]
  },
  {
   "cell_type": "code",
   "execution_count": 9,
   "metadata": {},
   "outputs": [
    {
     "data": {
      "text/html": [
       "<div>\n",
       "<style scoped>\n",
       "    .dataframe tbody tr th:only-of-type {\n",
       "        vertical-align: middle;\n",
       "    }\n",
       "\n",
       "    .dataframe tbody tr th {\n",
       "        vertical-align: top;\n",
       "    }\n",
       "\n",
       "    .dataframe thead th {\n",
       "        text-align: right;\n",
       "    }\n",
       "</style>\n",
       "<table border=\"1\" class=\"dataframe\">\n",
       "  <thead>\n",
       "    <tr style=\"text-align: right;\">\n",
       "      <th></th>\n",
       "      <th>Cgroup</th>\n",
       "      <th>C101</th>\n",
       "      <th>C103</th>\n",
       "      <th>C104</th>\n",
       "      <th>C115</th>\n",
       "      <th>A101</th>\n",
       "      <th>A120</th>\n",
       "      <th>A121</th>\n",
       "      <th>A122</th>\n",
       "      <th>A123</th>\n",
       "    </tr>\n",
       "  </thead>\n",
       "  <tbody>\n",
       "    <tr>\n",
       "      <th>83</th>\n",
       "      <td>complex</td>\n",
       "      <td>NaN</td>\n",
       "      <td>NaN</td>\n",
       "      <td>NaN</td>\n",
       "      <td>NaN</td>\n",
       "      <td>NaN</td>\n",
       "      <td>NaN</td>\n",
       "      <td>NaN</td>\n",
       "      <td>NaN</td>\n",
       "      <td>NaN</td>\n",
       "    </tr>\n",
       "    <tr>\n",
       "      <th>127</th>\n",
       "      <td>complex</td>\n",
       "      <td>NaN</td>\n",
       "      <td>NaN</td>\n",
       "      <td>NaN</td>\n",
       "      <td>NaN</td>\n",
       "      <td>NaN</td>\n",
       "      <td>NaN</td>\n",
       "      <td>NaN</td>\n",
       "      <td>NaN</td>\n",
       "      <td>NaN</td>\n",
       "    </tr>\n",
       "    <tr>\n",
       "      <th>197</th>\n",
       "      <td>no</td>\n",
       "      <td>738.0</td>\n",
       "      <td>33.4</td>\n",
       "      <td>26.5</td>\n",
       "      <td>1.26</td>\n",
       "      <td>NaN</td>\n",
       "      <td>NaN</td>\n",
       "      <td>NaN</td>\n",
       "      <td>NaN</td>\n",
       "      <td>NaN</td>\n",
       "    </tr>\n",
       "    <tr>\n",
       "      <th>270</th>\n",
       "      <td>complex</td>\n",
       "      <td>NaN</td>\n",
       "      <td>NaN</td>\n",
       "      <td>NaN</td>\n",
       "      <td>NaN</td>\n",
       "      <td>NaN</td>\n",
       "      <td>NaN</td>\n",
       "      <td>NaN</td>\n",
       "      <td>NaN</td>\n",
       "      <td>NaN</td>\n",
       "    </tr>\n",
       "    <tr>\n",
       "      <th>294</th>\n",
       "      <td>complex</td>\n",
       "      <td>NaN</td>\n",
       "      <td>NaN</td>\n",
       "      <td>NaN</td>\n",
       "      <td>NaN</td>\n",
       "      <td>NaN</td>\n",
       "      <td>NaN</td>\n",
       "      <td>NaN</td>\n",
       "      <td>NaN</td>\n",
       "      <td>NaN</td>\n",
       "    </tr>\n",
       "    <tr>\n",
       "      <th>374</th>\n",
       "      <td>complex</td>\n",
       "      <td>NaN</td>\n",
       "      <td>NaN</td>\n",
       "      <td>NaN</td>\n",
       "      <td>NaN</td>\n",
       "      <td>NaN</td>\n",
       "      <td>NaN</td>\n",
       "      <td>NaN</td>\n",
       "      <td>NaN</td>\n",
       "      <td>NaN</td>\n",
       "    </tr>\n",
       "  </tbody>\n",
       "</table>\n",
       "</div>"
      ],
      "text/plain": [
       "      Cgroup   C101  C103  C104  C115  A101  A120  A121  A122  A123\n",
       "83   complex    NaN   NaN   NaN   NaN   NaN   NaN   NaN   NaN   NaN\n",
       "127  complex    NaN   NaN   NaN   NaN   NaN   NaN   NaN   NaN   NaN\n",
       "197       no  738.0  33.4  26.5  1.26   NaN   NaN   NaN   NaN   NaN\n",
       "270  complex    NaN   NaN   NaN   NaN   NaN   NaN   NaN   NaN   NaN\n",
       "294  complex    NaN   NaN   NaN   NaN   NaN   NaN   NaN   NaN   NaN\n",
       "374  complex    NaN   NaN   NaN   NaN   NaN   NaN   NaN   NaN   NaN"
      ]
     },
     "execution_count": 9,
     "metadata": {},
     "output_type": "execute_result"
    }
   ],
   "source": [
    "cell_features_pre[np.sum(cell_features_pre.isnull(), axis=1) != 0]"
   ]
  },
  {
   "cell_type": "markdown",
   "metadata": {},
   "source": [
    "About above table, \"Cgroup is complex\" accounts for a large percentage.\n",
    "Let's view distribution of sprout-sizes."
   ]
  },
  {
   "cell_type": "code",
   "execution_count": 10,
   "metadata": {},
   "outputs": [
    {
     "data": {
      "text/plain": [
       "Counter({'medium': 88, 'no': 114, 'large': 97, 'small': 73})"
      ]
     },
     "execution_count": 10,
     "metadata": {},
     "output_type": "execute_result"
    }
   ],
   "source": [
    "import collections\n",
    "collections.Counter(np.array(cell_features[\"Cgroup\"]))"
   ]
  },
  {
   "cell_type": "markdown",
   "metadata": {},
   "source": [
    "Cells labeled \"no\" have a little more but it seems there isn't a big bias.\n",
    "\n",
    "In this status, let's visualize relation between conditions of cell walls and sizes of cells.\n",
    "\n",
    "X-axis: C101(Cell size)\n",
    "\n",
    "Y-axis: C103(Long axis length of mother cell)\n",
    "\n",
    "Drawing Scatter plot indicate size of sprout by colors."
   ]
  },
  {
   "cell_type": "code",
   "execution_count": 11,
   "metadata": {},
   "outputs": [
    {
     "data": {
      "image/png": "[encoded data removed]",
      "text/plain": [
       "<Figure size 576x576 with 1 Axes>"
      ]
     },
     "metadata": {
      "needs_background": "light"
     },
     "output_type": "display_data"
    }
   ],
   "source": [
    "import matplotlib.pyplot as plt\n",
    "%matplotlib inline\n",
    "\n",
    "fig = plt.figure(figsize = (8,8))\n",
    "ax = fig.add_subplot(1,1,1) \n",
    "targets = ['large', 'medium', 'small', 'no']\n",
    "colors = ['r', 'g', 'y', 'b']\n",
    "xlabel = \"C101\" # Cell size\n",
    "ylabel = \"C103\" # Long axis length of mother cell\n",
    "ax.set_xlabel(xlabel, fontsize = 15)\n",
    "ax.set_ylabel(ylabel, fontsize = 15)\n",
    "for target, color in zip(targets,colors):\n",
    "    target_row = cell_features['Cgroup'] == target\n",
    "    ax.scatter( cell_features.loc[target_row, xlabel]\n",
    "               , cell_features.loc[target_row, ylabel]\n",
    "               , c = color)\n",
    "ax.legend(targets)\n",
    "ax.grid()"
   ]
  },
  {
   "cell_type": "markdown",
   "metadata": {},
   "source": [
    "There is the tendency that the bigger cell-sizes(C101) are, the bigger sprout-sizes are. However it seems difficult to distinguish sprout-sizes only by cell-sizes. "
   ]
  },
  {
   "cell_type": "code",
   "execution_count": 12,
   "metadata": {},
   "outputs": [],
   "source": [
    "from sklearn import preprocessing\n",
    "X = cell_features[columns] # Class-name isn't necessry to transform norm. So plz delete class-name \n",
    "X_norm = preprocessing.StandardScaler().fit_transform(X)"
   ]
  },
  {
   "cell_type": "code",
   "execution_count": 13,
   "metadata": {},
   "outputs": [
    {
     "data": {
      "text/plain": [
       "array([[ 0.42516505,  0.12946103,  0.08625753, ...,  1.24377445,\n",
       "        -0.21082534, -0.44642697],\n",
       "       [-0.863805  , -0.19224574,  0.15445689, ..., -0.49399376,\n",
       "        -0.74434253, -0.8675696 ],\n",
       "       [ 0.73206269, -0.28875778,  0.15445689, ...,  1.20239902,\n",
       "         0.32269185,  0.32046854],\n",
       "       ...,\n",
       "       [-0.086331  , -0.28875778, -0.15244024, ..., -1.79318237,\n",
       "        -1.27785972, -1.00795047],\n",
       "       [-0.35230895,  0.45116781, -0.18653992, ..., -1.63595573,\n",
       "        -1.27785972, -0.42043052],\n",
       "       [-1.23890211, -0.96434201, -0.62983577, ..., -2.02405729,\n",
       "        -1.27785972,  0.12809475]])"
      ]
     },
     "execution_count": 13,
     "metadata": {},
     "output_type": "execute_result"
    }
   ],
   "source": [
    "X_norm"
   ]
  },
  {
   "cell_type": "code",
   "execution_count": 14,
   "metadata": {},
   "outputs": [],
   "source": [
    "from sklearn.decomposition import PCA\n",
    "pca = PCA(n_components=2)\n",
    "pc_matrix = pca.fit_transform(X_norm)\n",
    "pc_df = pd.DataFrame(data = pc_matrix, columns = ['PC1', 'PC2'])\n",
    "pc_df['Cgroup'] = np.array(cell_features[\"Cgroup\"])"
   ]
  },
  {
   "cell_type": "code",
   "execution_count": 15,
   "metadata": {},
   "outputs": [
    {
     "data": {
      "image/png": "[encoded data removed]",
      "text/plain": [
       "<Figure size 576x576 with 1 Axes>"
      ]
     },
     "metadata": {
      "needs_background": "light"
     },
     "output_type": "display_data"
    }
   ],
   "source": [
    "fig = plt.figure(figsize = (8,8)) # 新規のウィンドウを描画\n",
    "ax = fig.add_subplot(1,1,1) # サブプロットを追加(1行1列に分割の1番目)\n",
    "ax.set_xlabel('PC1', fontsize = 15)\n",
    "ax.set_ylabel('PC2', fontsize = 15)\n",
    "ax.set_title('2 component PCA', fontsize = 20)\n",
    "targets = ['large', 'medium', 'small', 'no']\n",
    "colors = ['r', 'g', 'y', 'b']\n",
    "for target, color in zip(targets,colors): \n",
    "    target_row = pc_df['Cgroup'] == target\n",
    "    ax.scatter(pc_df.loc[target_row, 'PC1']\n",
    "               , pc_df.loc[target_row, 'PC2']\n",
    "               , c = color)\n",
    "ax.legend(targets)\n",
    "ax.grid()"
   ]
  }
 ],
 "metadata": {
  "kernelspec": {
   "display_name": "Python 3",
   "language": "python",
   "name": "python3"
  },
  "language_info": {
   "codemirror_mode": {
    "name": "ipython",
    "version": 3
   },
   "file_extension": ".py",
   "mimetype": "text/x-python",
   "name": "python",
   "nbconvert_exporter": "python",
   "pygments_lexer": "ipython3",
   "version": "3.6.7"
  }
 },
 "nbformat": 4,
 "nbformat_minor": 2
}
