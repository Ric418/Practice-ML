{
 "cells": [
  {
   "cell_type": "code",
   "execution_count": 1,
   "metadata": {},
   "outputs": [],
   "source": [
    "import numpy as np\n",
    "import pandas as pd\n",
    "import matplotlib.pyplot as plt\n",
    "\n",
    "import torch\n",
    "import torch.nn as nn"
   ]
  },
  {
   "cell_type": "code",
   "execution_count": 2,
   "metadata": {},
   "outputs": [
    {
     "data": {
      "text/plain": [
       "(10, 4, 5)"
      ]
     },
     "execution_count": 2,
     "metadata": {},
     "output_type": "execute_result"
    }
   ],
   "source": [
    "sequence=np.random.random((10,4,5))\n",
    "sequence.shape"
   ]
  },
  {
   "cell_type": "code",
   "execution_count": 3,
   "metadata": {},
   "outputs": [
    {
     "data": {
      "text/plain": [
       "torch.Size([10, 4, 5])"
      ]
     },
     "execution_count": 3,
     "metadata": {},
     "output_type": "execute_result"
    }
   ],
   "source": [
    "seq_tensor = torch.from_numpy(sequence)\n",
    "#seq_tensor\n",
    "seq_tensor.shape"
   ]
  },
  {
   "cell_type": "code",
   "execution_count": 4,
   "metadata": {},
   "outputs": [],
   "source": [
    "sequences = []"
   ]
  },
  {
   "cell_type": "code",
   "execution_count": 5,
   "metadata": {},
   "outputs": [
    {
     "data": {
      "text/plain": [
       "tensor([[[0.8106, 0.6948, 0.0447, 0.7113, 0.8430],\n",
       "         [0.0061, 0.8069, 0.1907, 0.1003, 0.3605],\n",
       "         [0.7624, 0.7263, 0.4337, 0.8211, 0.3303],\n",
       "         [0.2824, 0.7078, 0.2886, 0.8277, 0.1382]],\n",
       "\n",
       "        [[0.4701, 0.6430, 0.3969, 0.4508, 0.7924],\n",
       "         [0.8479, 0.4359, 0.5891, 0.5845, 0.0263],\n",
       "         [0.5319, 0.7954, 0.6082, 0.7964, 0.4172],\n",
       "         [0.7114, 0.9648, 0.8998, 0.0961, 0.7573]],\n",
       "\n",
       "        [[0.3636, 0.8673, 0.1685, 0.6769, 0.8138],\n",
       "         [0.8497, 0.6692, 0.2843, 0.5202, 0.3500],\n",
       "         [0.0738, 0.2597, 0.6723, 0.3055, 0.5466],\n",
       "         [0.7876, 0.8309, 0.2859, 0.0323, 0.0035]],\n",
       "\n",
       "        [[0.4316, 0.9634, 0.8834, 0.1022, 0.3191],\n",
       "         [0.3584, 0.2096, 0.2575, 0.9224, 0.4202],\n",
       "         [0.3934, 0.2853, 0.2793, 0.7462, 0.8441],\n",
       "         [0.3215, 0.7033, 0.9748, 0.0024, 0.1836]],\n",
       "\n",
       "        [[0.1047, 0.6911, 0.2095, 0.7979, 0.6448],\n",
       "         [0.7557, 0.3919, 0.4894, 0.0336, 0.3430],\n",
       "         [0.8752, 0.7611, 0.5785, 0.7175, 0.6627],\n",
       "         [0.7316, 0.9509, 0.4907, 0.9063, 0.8850]],\n",
       "\n",
       "        [[0.9820, 0.2745, 0.2483, 0.8525, 0.7251],\n",
       "         [0.0906, 0.5852, 0.0140, 0.9228, 0.1389],\n",
       "         [0.4838, 0.1184, 0.8302, 0.2285, 0.1460],\n",
       "         [0.7199, 0.5884, 0.4816, 0.9546, 0.8139]],\n",
       "\n",
       "        [[0.4537, 0.8568, 0.3621, 0.2536, 0.8589],\n",
       "         [0.3426, 0.0764, 0.6490, 0.7950, 0.0669],\n",
       "         [0.4882, 0.3778, 0.3651, 0.7096, 0.0723],\n",
       "         [0.0399, 0.9660, 0.7928, 0.9542, 0.7691]],\n",
       "\n",
       "        [[0.6642, 0.7926, 0.6864, 0.3998, 0.1852],\n",
       "         [0.4449, 0.9064, 0.7279, 0.1399, 0.1592],\n",
       "         [0.8562, 0.5677, 0.2470, 0.5267, 0.9887],\n",
       "         [0.4049, 0.9268, 0.2746, 0.4040, 0.9725]],\n",
       "\n",
       "        [[0.1789, 0.9359, 0.6227, 0.2328, 0.0988],\n",
       "         [0.3352, 0.5922, 0.5520, 0.2793, 0.1241],\n",
       "         [0.6952, 0.2365, 0.1303, 0.1289, 0.4369],\n",
       "         [0.5928, 0.7387, 0.3975, 0.2894, 0.3932]],\n",
       "\n",
       "        [[0.7371, 0.6815, 0.5001, 0.3596, 0.3551],\n",
       "         [0.6306, 0.0362, 0.5027, 0.9812, 0.4268],\n",
       "         [0.6042, 0.0665, 0.9650, 0.5134, 0.8694],\n",
       "         [0.4361, 0.4303, 0.6382, 0.8411, 0.0147]]], device='cuda:0',\n",
       "       dtype=torch.float64)"
      ]
     },
     "execution_count": 5,
     "metadata": {},
     "output_type": "execute_result"
    }
   ],
   "source": [
    "seq_tensor.to('cuda')"
   ]
  },
  {
   "cell_type": "code",
   "execution_count": 6,
   "metadata": {},
   "outputs": [
    {
     "name": "stdout",
     "output_type": "stream",
     "text": [
      "converted_seq's shape is (10, 4, 5)\n",
      "dimension is 3\n",
      "10\n",
      "4\n",
      "5\n"
     ]
    }
   ],
   "source": [
    "converted_seq = seq_tensor.numpy()\n",
    "#converted_seq\n",
    "print(\"converted_seq's shape is\", converted_seq.shape)\n",
    "print(\"dimension is\",converted_seq.ndim)\n",
    "for x in range(converted_seq.ndim):\n",
    " print(converted_seq.shape[x])"
   ]
  },
  {
   "cell_type": "code",
   "execution_count": 2,
   "metadata": {},
   "outputs": [
    {
     "name": "stdout",
     "output_type": "stream",
     "text": [
      "sequence:  CGAT\n",
      "\n",
      "sequence2 : ATCG\n",
      "\n",
      "sequences : ['CGAT\\n', 'ATCG\\n']\n",
      "1 : TATC\n",
      "2 : CGAA\n",
      "3 : AAAA\n",
      "4 : ATCG\n",
      "5 : TCGA\n",
      "6 : TTGA\n",
      "7 : TACG\n",
      "8 : ATTA\n",
      "9 : CGAT\n",
      "10 : CCCC\n",
      "11 : TTCC\n",
      "12 : TTCA\n",
      "New sequence has saved.\n",
      "\n",
      "final output is ...\n",
      "1 : TATC\n",
      "2 : CGAA\n",
      "3 : AAAA\n",
      "4 : ATCG\n",
      "5 : TCGA\n",
      "6 : TTGA\n",
      "7 : TACG\n",
      "8 : ATTA\n",
      "9 : CGAT\n",
      "10 : CCCC\n",
      "11 : TTCC\n",
      "12 : TTCA\n",
      "13 : TTCT\n"
     ]
    }
   ],
   "source": [
    "sequence = \"\"\n",
    "sequence += \"CGA\"\n",
    "sequence += \"T\\n\"\n",
    "sequence2 = \"ATCG\\n\"\n",
    "print(\"sequence: \", sequence)\n",
    "sequences = []\n",
    "sequences.append(sequence)\n",
    "print(\"sequence2 :\", sequence2)\n",
    "sequences.append(sequence2)\n",
    "print(\"sequences :\", sequences)\n",
    "\n",
    "from modules import seq_save as sq\n",
    "\n",
    "sq.sequence_save('TTCT','test')"
   ]
  },
  {
   "cell_type": "code",
   "execution_count": 95,
   "metadata": {},
   "outputs": [],
   "source": []
  },
  {
   "cell_type": "code",
   "execution_count": 76,
   "metadata": {},
   "outputs": [
    {
     "name": "stdout",
     "output_type": "stream",
     "text": [
      "This is 1 th loop.\n",
      "channel 1 : [0.13207154 0.34558762 0.02543022 0.9617019  0.15113159]\n",
      "channel 2 : [0.45812448 0.6531316  0.03208419 0.24452669 0.92637313]\n",
      "channel 3 : [0.31528932 0.98138962 0.30192031 0.67239868 0.74770685]\n",
      "channel 4 : [4.11090890e-01 7.54529700e-01 5.46830365e-05 4.41447912e-01\n",
      " 9.01994199e-01]\n",
      "This is 2 th loop.\n",
      "channel 1 : [0.55604846 0.55737651 0.10390613 0.68369958 0.84442594]\n",
      "channel 2 : [0.42886889 0.61589928 0.73550346 0.48234368 0.4646015 ]\n",
      "channel 3 : [0.45070185 0.25444488 0.67912224 0.36867742 0.26043065]\n",
      "channel 4 : [0.30299777 0.29845627 0.56473576 0.03308217 0.2164681 ]\n",
      "This is 3 th loop.\n",
      "channel 1 : [0.43954515 0.82388965 0.58130758 0.34033234 0.98574527]\n",
      "channel 2 : [0.28179324 0.78185208 0.68730525 0.82114966 0.05455609]\n",
      "channel 3 : [0.40329415 0.29450283 0.7196595  0.41079624 0.18064358]\n",
      "channel 4 : [0.58788268 0.72105919 0.68005402 0.31145593 0.80392632]\n",
      "This is 4 th loop.\n",
      "channel 1 : [0.61526916 0.19035527 0.70115754 0.31616496 0.77256009]\n",
      "channel 2 : [0.86099051 0.17218794 0.49394002 0.55201055 0.81902365]\n",
      "channel 3 : [0.9492008  0.03052399 0.03170065 0.29780667 0.31158958]\n",
      "channel 4 : [0.56921498 0.6235283  0.67272741 0.79814623 0.92624389]\n",
      "This is 5 th loop.\n",
      "channel 1 : [0.90632718 0.4702049  0.59962363 0.88166774 0.63096999]\n",
      "channel 2 : [0.89025811 0.59577097 0.24702427 0.88400704 0.26438448]\n",
      "channel 3 : [0.77289136 0.67334391 0.03758824 0.92279755 0.592333  ]\n",
      "channel 4 : [0.3766026  0.47102323 0.74020996 0.27320109 0.42272527]\n",
      "This is 6 th loop.\n",
      "channel 1 : [0.8233144  0.94862392 0.46343309 0.74555816 0.4804411 ]\n",
      "channel 2 : [0.85749291 0.04096028 0.77439934 0.58215226 0.31662829]\n",
      "channel 3 : [0.362362   0.59309941 0.87989356 0.54138123 0.46338683]\n",
      "channel 4 : [0.71559217 0.57264006 0.36607629 0.72124269 0.2428401 ]\n",
      "This is 7 th loop.\n",
      "channel 1 : [0.32515524 0.17282366 0.40889766 0.56910244 0.65294011]\n",
      "channel 2 : [0.1273079  0.13464241 0.96767423 0.05074712 0.13597979]\n",
      "channel 3 : [0.82720963 0.09600921 0.49827266 0.31030313 0.47546171]\n",
      "channel 4 : [0.98925024 0.73978567 0.74643644 0.8779153  0.05590776]\n",
      "This is 8 th loop.\n",
      "channel 1 : [0.33910683 0.84459668 0.31820684 0.86248128 0.23521768]\n",
      "channel 2 : [0.19330717 0.01037915 0.46531472 0.22628857 0.59040096]\n",
      "channel 3 : [0.04071323 0.67247703 0.37632689 0.79236556 0.23150061]\n",
      "channel 4 : [0.60673528 0.38936777 0.32555347 0.25641877 0.73820859]\n",
      "This is 9 th loop.\n",
      "channel 1 : [0.31209905 0.54572461 0.78556506 0.08900742 0.14548706]\n",
      "channel 2 : [0.12227739 0.71843627 0.23166991 0.53403786 0.61984435]\n",
      "channel 3 : [0.2087549  0.71484648 0.33314231 0.91294059 0.67525698]\n",
      "channel 4 : [0.74294051 0.98189664 0.79053936 0.01846753 0.33195925]\n",
      "This is 10 th loop.\n",
      "channel 1 : [0.2186546  0.01586241 0.40835721 0.71007133 0.83927943]\n",
      "channel 2 : [0.14019895 0.21715923 0.38753528 0.09804314 0.69892408]\n",
      "channel 3 : [0.44981826 0.81463572 0.34470641 0.66333548 0.19961328]\n",
      "channel 4 : [0.8190066  0.50459481 0.57896973 0.1236637  0.80219622]\n"
     ]
    }
   ],
   "source": [
    "for itr, data in enumerate(converted_seq):\n",
    "    sequences = [] #init sequences\n",
    "    print(\"This is\", itr+1, \"th loop.\")\n",
    "    channel1 = data[0]\n",
    "    channel2 = data[1]\n",
    "    channel3 = data[2]\n",
    "    channel4 = data[3]\n",
    "    for channel in range(converted_seq.shape[1]):\n",
    "        print(\"channel\",channel+1,\":\",data[channel]),"
   ]
  },
  {
   "cell_type": "code",
   "execution_count": null,
   "metadata": {},
   "outputs": [],
   "source": []
  }
 ],
 "metadata": {
  "kernelspec": {
   "display_name": "Python 3",
   "language": "python",
   "name": "python3"
  },
  "language_info": {
   "codemirror_mode": {
    "name": "ipython",
    "version": 3
   },
   "file_extension": ".py",
   "mimetype": "text/x-python",
   "name": "python",
   "nbconvert_exporter": "python",
   "pygments_lexer": "ipython3",
   "version": "3.6.7"
  }
 },
 "nbformat": 4,
 "nbformat_minor": 2
}
