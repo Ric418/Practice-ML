{
 "cells": [
  {
   "cell_type": "markdown",
   "metadata": {},
   "source": [
    "import os\n",
    "import warnings\n",
    "warnings.simplefilter(action = 'ignore', category=FutureWarning)\n",
    "warnings.filterwarnings('ignore')\n",
    "\n",
    "def ignore_warn(*args, **kwargs):\n",
    "    pass\n",
    "\n",
    "warnings.warn = ignore_warn #ignore annoying warning (from sklearn and seaborn)"
   ]
  },
  {
   "cell_type": "code",
   "execution_count": 11,
   "metadata": {},
   "outputs": [],
   "source": [
    "import pandas as pd\n",
    "import numpy as np\n",
    "from imblearn.over_sampling import RandomOverSampler\n",
    "from imblearn.over_sampling import RandomOverSampler, SMOTE"
   ]
  },
  {
   "cell_type": "code",
   "execution_count": 3,
   "metadata": {},
   "outputs": [],
   "source": [
    "%matplotlib inline\n",
    "import matplotlib.pyplot as plt\n",
    "from sklearn import datasets, svm\n",
    "from sklearn.preprocessing import OneHotEncoder\n",
    "from sklearn.preprocessing import StandardScaler\n",
    "from sklearn.utils import shuffle\n",
    "from sklearn.model_selection import train_test_split\n",
    "from sklearn.linear_model import LogisticRegression\n",
    "from sklearn.metrics import accuracy_score\n",
    "from sklearn.calibration import CalibratedClassifierCV, calibration_curve\n",
    "from sklearn.ensemble import RandomForestClassifier\n",
    "import sklearn\n",
    "import seaborn as sns"
   ]
  },
  {
   "cell_type": "code",
   "execution_count": 4,
   "metadata": {},
   "outputs": [],
   "source": [
    "df_train = pd.read_csv(\"wine_train.csv\")\n",
    "df_test = pd.read_csv(\"wine_test.csv\")"
   ]
  },
  {
   "cell_type": "code",
   "execution_count": 5,
   "metadata": {},
   "outputs": [],
   "source": [
    "def remapping_target_class(base_class):\n",
    "    mapping = {\n",
    "        3 : 0,\n",
    "        4 : 1,\n",
    "        5 : 2,\n",
    "        6 : 3,\n",
    "        7 : 4,\n",
    "        8 : 5,\n",
    "        9 : 6\n",
    "    }\n",
    "    return mapping[base_class]\n",
    "\n",
    "\n",
    "\n",
    "def restore_target_class(classes):\n",
    "    target_map=[3,4,5,6,7,8,9]\n",
    "    return target_map[classes]"
   ]
  },
  {
   "cell_type": "code",
   "execution_count": 6,
   "metadata": {},
   "outputs": [
    {
     "data": {
      "text/plain": [
       "6    2410\n",
       "5    1793\n",
       "7     910\n",
       "4     184\n",
       "8     170\n",
       "3      25\n",
       "9       5\n",
       "Name: quality, dtype: int64"
      ]
     },
     "execution_count": 6,
     "metadata": {},
     "output_type": "execute_result"
    }
   ],
   "source": [
    "df_train['quality'].value_counts()"
   ]
  },
  {
   "cell_type": "code",
   "execution_count": null,
   "metadata": {},
   "outputs": [],
   "source": []
  },
  {
   "cell_type": "code",
   "execution_count": 12,
   "metadata": {},
   "outputs": [],
   "source": [
    "X = df_train[list(set(df_train.columns)-set(['quality']))]\n",
    "X = pd.get_dummies(X, columns=[\"type\"])\n",
    "y = df_train['quality']\n",
    "X, y = shuffle(X, y, random_state=0)\n",
    "\n",
    "ss = StandardScaler()\n",
    "sm = SMOTE(k_neighbors=4,random_state=42)\n",
    "\n",
    "scaled_X = pd.DataFrame(columns=X.columns,data=ss.fit_transform(X))\n",
    "X_train, X_test, Y_train, Y_test = train_test_split(X, y, test_size=0.3, random_state=1)\n",
    "X_train, Y_train = sm.fit_resample(X_train, Y_train)"
   ]
  },
  {
   "cell_type": "code",
   "execution_count": 14,
   "metadata": {},
   "outputs": [],
   "source": [
    "Y_train = Y_train.apply(remapping_target_class)"
   ]
  },
  {
   "cell_type": "code",
   "execution_count": 15,
   "metadata": {},
   "outputs": [
    {
     "data": {
      "text/plain": [
       "6    1676\n",
       "5    1676\n",
       "4    1676\n",
       "3    1676\n",
       "2    1676\n",
       "1    1676\n",
       "0    1676\n",
       "Name: quality, dtype: int64"
      ]
     },
     "execution_count": 15,
     "metadata": {},
     "output_type": "execute_result"
    }
   ],
   "source": [
    "Y_train.value_counts()"
   ]
  },
  {
   "cell_type": "code",
   "execution_count": 16,
   "metadata": {},
   "outputs": [
    {
     "data": {
      "text/plain": [
       "LogisticRegression(C=10000000000.0, class_weight=None, dual=False,\n",
       "                   fit_intercept=True, intercept_scaling=1, l1_ratio=None,\n",
       "                   max_iter=500, multi_class='auto', n_jobs=None, penalty='l2',\n",
       "                   random_state=None, solver='sag', tol=1e-10, verbose=0,\n",
       "                   warm_start=False)"
      ]
     },
     "execution_count": 16,
     "metadata": {},
     "output_type": "execute_result"
    }
   ],
   "source": [
    "clf_sk = LogisticRegression(C=1e10, max_iter=500, solver=\"sag\", tol=1e-10, penalty='l2')\n",
    "clf_sk.fit(X_train, Y_train)"
   ]
  },
  {
   "cell_type": "code",
   "execution_count": 17,
   "metadata": {},
   "outputs": [],
   "source": [
    "acc_train = accuracy_score(Y_train, clf_sk.predict(X_train))\n",
    "predict_list = [restore_target_class(x) for x in list(clf_sk.predict(X_test))] \n",
    "acc_test = accuracy_score(Y_test, predict_list)"
   ]
  },
  {
   "cell_type": "code",
   "execution_count": 18,
   "metadata": {},
   "outputs": [
    {
     "name": "stdout",
     "output_type": "stream",
     "text": [
      "acc_train: 0.4241391067166724   acc_test: 0.23333333333333334\n"
     ]
    }
   ],
   "source": [
    "print(\"acc_train: \"+ str(acc_train) + \"   acc_test: \"+ str(acc_test))"
   ]
  },
  {
   "cell_type": "code",
   "execution_count": 19,
   "metadata": {},
   "outputs": [
    {
     "data": {
      "text/html": [
       "<div>\n",
       "<style scoped>\n",
       "    .dataframe tbody tr th:only-of-type {\n",
       "        vertical-align: middle;\n",
       "    }\n",
       "\n",
       "    .dataframe tbody tr th {\n",
       "        vertical-align: top;\n",
       "    }\n",
       "\n",
       "    .dataframe thead th {\n",
       "        text-align: right;\n",
       "    }\n",
       "</style>\n",
       "<table border=\"1\" class=\"dataframe\">\n",
       "  <thead>\n",
       "    <tr style=\"text-align: right;\">\n",
       "      <th></th>\n",
       "      <th>alcohol</th>\n",
       "      <th>sulphates</th>\n",
       "      <th>chlorides</th>\n",
       "      <th>density</th>\n",
       "      <th>pH</th>\n",
       "      <th>total.sulfur.dioxide</th>\n",
       "      <th>fixed.acidity</th>\n",
       "      <th>volatile.acidity</th>\n",
       "      <th>residual.sugar</th>\n",
       "      <th>citric.acid</th>\n",
       "      <th>free.sulfur.dioxide</th>\n",
       "      <th>type_R</th>\n",
       "      <th>type_W</th>\n",
       "    </tr>\n",
       "  </thead>\n",
       "  <tbody>\n",
       "    <tr>\n",
       "      <td>0</td>\n",
       "      <td>10.800000</td>\n",
       "      <td>0.490000</td>\n",
       "      <td>0.029000</td>\n",
       "      <td>0.993260</td>\n",
       "      <td>3.080000</td>\n",
       "      <td>131.000000</td>\n",
       "      <td>6.900000</td>\n",
       "      <td>0.220000</td>\n",
       "      <td>6.300000</td>\n",
       "      <td>0.310000</td>\n",
       "      <td>41.000000</td>\n",
       "      <td>0</td>\n",
       "      <td>1</td>\n",
       "    </tr>\n",
       "    <tr>\n",
       "      <td>1</td>\n",
       "      <td>10.000000</td>\n",
       "      <td>0.540000</td>\n",
       "      <td>0.047000</td>\n",
       "      <td>0.994800</td>\n",
       "      <td>3.200000</td>\n",
       "      <td>129.000000</td>\n",
       "      <td>8.000000</td>\n",
       "      <td>0.240000</td>\n",
       "      <td>1.500000</td>\n",
       "      <td>0.360000</td>\n",
       "      <td>17.000000</td>\n",
       "      <td>0</td>\n",
       "      <td>1</td>\n",
       "    </tr>\n",
       "    <tr>\n",
       "      <td>2</td>\n",
       "      <td>10.800000</td>\n",
       "      <td>0.620000</td>\n",
       "      <td>0.089000</td>\n",
       "      <td>0.992300</td>\n",
       "      <td>3.490000</td>\n",
       "      <td>143.000000</td>\n",
       "      <td>6.000000</td>\n",
       "      <td>0.180000</td>\n",
       "      <td>1.500000</td>\n",
       "      <td>0.270000</td>\n",
       "      <td>40.000000</td>\n",
       "      <td>0</td>\n",
       "      <td>1</td>\n",
       "    </tr>\n",
       "    <tr>\n",
       "      <td>3</td>\n",
       "      <td>10.500000</td>\n",
       "      <td>0.450000</td>\n",
       "      <td>0.048000</td>\n",
       "      <td>0.993300</td>\n",
       "      <td>3.250000</td>\n",
       "      <td>131.000000</td>\n",
       "      <td>7.200000</td>\n",
       "      <td>0.240000</td>\n",
       "      <td>1.600000</td>\n",
       "      <td>0.300000</td>\n",
       "      <td>27.000000</td>\n",
       "      <td>0</td>\n",
       "      <td>1</td>\n",
       "    </tr>\n",
       "    <tr>\n",
       "      <td>4</td>\n",
       "      <td>10.500000</td>\n",
       "      <td>0.770000</td>\n",
       "      <td>0.039000</td>\n",
       "      <td>0.992600</td>\n",
       "      <td>3.140000</td>\n",
       "      <td>136.000000</td>\n",
       "      <td>7.300000</td>\n",
       "      <td>0.155000</td>\n",
       "      <td>1.300000</td>\n",
       "      <td>0.490000</td>\n",
       "      <td>34.000000</td>\n",
       "      <td>0</td>\n",
       "      <td>1</td>\n",
       "    </tr>\n",
       "    <tr>\n",
       "      <td>...</td>\n",
       "      <td>...</td>\n",
       "      <td>...</td>\n",
       "      <td>...</td>\n",
       "      <td>...</td>\n",
       "      <td>...</td>\n",
       "      <td>...</td>\n",
       "      <td>...</td>\n",
       "      <td>...</td>\n",
       "      <td>...</td>\n",
       "      <td>...</td>\n",
       "      <td>...</td>\n",
       "      <td>...</td>\n",
       "      <td>...</td>\n",
       "    </tr>\n",
       "    <tr>\n",
       "      <td>11727</td>\n",
       "      <td>10.535005</td>\n",
       "      <td>0.470125</td>\n",
       "      <td>0.034055</td>\n",
       "      <td>0.996504</td>\n",
       "      <td>3.214176</td>\n",
       "      <td>121.367401</td>\n",
       "      <td>8.931244</td>\n",
       "      <td>0.276075</td>\n",
       "      <td>9.992477</td>\n",
       "      <td>0.439200</td>\n",
       "      <td>27.729990</td>\n",
       "      <td>0</td>\n",
       "      <td>1</td>\n",
       "    </tr>\n",
       "    <tr>\n",
       "      <td>11728</td>\n",
       "      <td>12.707480</td>\n",
       "      <td>0.448878</td>\n",
       "      <td>0.031519</td>\n",
       "      <td>0.990420</td>\n",
       "      <td>3.326683</td>\n",
       "      <td>125.513774</td>\n",
       "      <td>7.244390</td>\n",
       "      <td>0.250374</td>\n",
       "      <td>2.103740</td>\n",
       "      <td>0.427431</td>\n",
       "      <td>29.074804</td>\n",
       "      <td>0</td>\n",
       "      <td>1</td>\n",
       "    </tr>\n",
       "    <tr>\n",
       "      <td>11729</td>\n",
       "      <td>12.571746</td>\n",
       "      <td>0.469238</td>\n",
       "      <td>0.031179</td>\n",
       "      <td>0.990505</td>\n",
       "      <td>3.296143</td>\n",
       "      <td>134.336518</td>\n",
       "      <td>7.346191</td>\n",
       "      <td>0.243587</td>\n",
       "      <td>2.035873</td>\n",
       "      <td>0.383317</td>\n",
       "      <td>27.717459</td>\n",
       "      <td>0</td>\n",
       "      <td>1</td>\n",
       "    </tr>\n",
       "    <tr>\n",
       "      <td>11730</td>\n",
       "      <td>12.511729</td>\n",
       "      <td>0.478241</td>\n",
       "      <td>0.031029</td>\n",
       "      <td>0.990543</td>\n",
       "      <td>3.282639</td>\n",
       "      <td>138.237590</td>\n",
       "      <td>7.391203</td>\n",
       "      <td>0.240586</td>\n",
       "      <td>2.005865</td>\n",
       "      <td>0.363812</td>\n",
       "      <td>27.117294</td>\n",
       "      <td>0</td>\n",
       "      <td>1</td>\n",
       "    </tr>\n",
       "    <tr>\n",
       "      <td>11731</td>\n",
       "      <td>12.456652</td>\n",
       "      <td>0.588472</td>\n",
       "      <td>0.022246</td>\n",
       "      <td>0.989724</td>\n",
       "      <td>3.405468</td>\n",
       "      <td>88.172498</td>\n",
       "      <td>6.656652</td>\n",
       "      <td>0.348670</td>\n",
       "      <td>1.667982</td>\n",
       "      <td>0.312661</td>\n",
       "      <td>24.793125</td>\n",
       "      <td>0</td>\n",
       "      <td>1</td>\n",
       "    </tr>\n",
       "  </tbody>\n",
       "</table>\n",
       "<p>11732 rows × 13 columns</p>\n",
       "</div>"
      ],
      "text/plain": [
       "         alcohol  sulphates  chlorides   density        pH  \\\n",
       "0      10.800000   0.490000   0.029000  0.993260  3.080000   \n",
       "1      10.000000   0.540000   0.047000  0.994800  3.200000   \n",
       "2      10.800000   0.620000   0.089000  0.992300  3.490000   \n",
       "3      10.500000   0.450000   0.048000  0.993300  3.250000   \n",
       "4      10.500000   0.770000   0.039000  0.992600  3.140000   \n",
       "...          ...        ...        ...       ...       ...   \n",
       "11727  10.535005   0.470125   0.034055  0.996504  3.214176   \n",
       "11728  12.707480   0.448878   0.031519  0.990420  3.326683   \n",
       "11729  12.571746   0.469238   0.031179  0.990505  3.296143   \n",
       "11730  12.511729   0.478241   0.031029  0.990543  3.282639   \n",
       "11731  12.456652   0.588472   0.022246  0.989724  3.405468   \n",
       "\n",
       "       total.sulfur.dioxide  fixed.acidity  volatile.acidity  residual.sugar  \\\n",
       "0                131.000000       6.900000          0.220000        6.300000   \n",
       "1                129.000000       8.000000          0.240000        1.500000   \n",
       "2                143.000000       6.000000          0.180000        1.500000   \n",
       "3                131.000000       7.200000          0.240000        1.600000   \n",
       "4                136.000000       7.300000          0.155000        1.300000   \n",
       "...                     ...            ...               ...             ...   \n",
       "11727            121.367401       8.931244          0.276075        9.992477   \n",
       "11728            125.513774       7.244390          0.250374        2.103740   \n",
       "11729            134.336518       7.346191          0.243587        2.035873   \n",
       "11730            138.237590       7.391203          0.240586        2.005865   \n",
       "11731             88.172498       6.656652          0.348670        1.667982   \n",
       "\n",
       "       citric.acid  free.sulfur.dioxide  type_R  type_W  \n",
       "0         0.310000            41.000000       0       1  \n",
       "1         0.360000            17.000000       0       1  \n",
       "2         0.270000            40.000000       0       1  \n",
       "3         0.300000            27.000000       0       1  \n",
       "4         0.490000            34.000000       0       1  \n",
       "...            ...                  ...     ...     ...  \n",
       "11727     0.439200            27.729990       0       1  \n",
       "11728     0.427431            29.074804       0       1  \n",
       "11729     0.383317            27.717459       0       1  \n",
       "11730     0.363812            27.117294       0       1  \n",
       "11731     0.312661            24.793125       0       1  \n",
       "\n",
       "[11732 rows x 13 columns]"
      ]
     },
     "execution_count": 19,
     "metadata": {},
     "output_type": "execute_result"
    }
   ],
   "source": [
    "X_train"
   ]
  },
  {
   "cell_type": "code",
   "execution_count": 20,
   "metadata": {},
   "outputs": [
    {
     "name": "stdout",
     "output_type": "stream",
     "text": [
      "0.5991757575757576\n"
     ]
    }
   ],
   "source": [
    "normal_rf_score=0\n",
    "for i in range(50):\n",
    "    clf = RandomForestClassifier()\n",
    "    clf.fit(X_train, Y_train)\n",
    "    predict_list_rf = [restore_target_class(x) for x in list(clf.predict(X_test))] \n",
    "    normal_rf_score+=accuracy_score(Y_test, predict_list_rf)\n",
    "# 予測して精度を確認する\n",
    "\n",
    "print(normal_rf_score/50)"
   ]
  },
  {
   "cell_type": "code",
   "execution_count": 21,
   "metadata": {},
   "outputs": [
    {
     "name": "stdout",
     "output_type": "stream",
     "text": [
      "0.6005454545454546\n"
     ]
    }
   ],
   "source": [
    "balanced_rf_score=0\n",
    "for i in range(50):\n",
    "    clf = RandomForestClassifier(class_weight='balanced')\n",
    "    clf.fit(X_train, Y_train)\n",
    "    predict_list_rf = [restore_target_class(x) for x in list(clf.predict(X_test))] \n",
    "    balanced_rf_score+=accuracy_score(Y_test, predict_list_rf)\n",
    "# 予測して精度を確認する\n",
    "\n",
    "print(balanced_rf_score/50)"
   ]
  },
  {
   "cell_type": "code",
   "execution_count": 22,
   "metadata": {},
   "outputs": [
    {
     "data": {
      "text/plain": [
       "array([[  0,   1,   4,   4,   0,   0,   0],\n",
       "       [  0,   9,  30,  17,   1,   0,   0],\n",
       "       [  1,   6, 372, 145,   7,   0,   0],\n",
       "       [  0,   1, 179, 499,  52,   2,   1],\n",
       "       [  0,   1,  15, 136, 116,   4,   0],\n",
       "       [  0,   0,   1,  20,  10,  16,   0],\n",
       "       [  0,   0,   0,   0,   0,   0,   0]])"
      ]
     },
     "execution_count": 22,
     "metadata": {},
     "output_type": "execute_result"
    }
   ],
   "source": [
    "# confusion_matrixの確認\n",
    "sklearn.metrics.confusion_matrix(Y_test,predict_list_rf)"
   ]
  },
  {
   "cell_type": "code",
   "execution_count": 23,
   "metadata": {},
   "outputs": [],
   "source": [
    "names = df_train.columns"
   ]
  },
  {
   "cell_type": "code",
   "execution_count": 24,
   "metadata": {},
   "outputs": [
    {
     "data": {
      "text/plain": [
       "array([0.10648579, 0.09068013, 0.08074605, 0.07765486, 0.10044267,\n",
       "       0.09356228, 0.10654287, 0.06893847, 0.08179036, 0.07083698,\n",
       "       0.11672683, 0.00157763, 0.00401508])"
      ]
     },
     "execution_count": 24,
     "metadata": {},
     "output_type": "execute_result"
    }
   ],
   "source": [
    "clf.feature_importances_"
   ]
  },
  {
   "cell_type": "code",
   "execution_count": 25,
   "metadata": {},
   "outputs": [
    {
     "data": {
      "text/plain": [
       "[(0.1167, 'sulphates'),\n",
       " (0.1065, 'type'),\n",
       " (0.1065, 'free.sulfur.dioxide'),\n",
       " (0.1004, 'residual.sugar'),\n",
       " (0.0936, 'chlorides'),\n",
       " (0.0907, 'fixed.acidity'),\n",
       " (0.0818, 'density'),\n",
       " (0.0807, 'volatile.acidity'),\n",
       " (0.0777, 'citric.acid'),\n",
       " (0.0708, 'pH'),\n",
       " (0.0689, 'total.sulfur.dioxide'),\n",
       " (0.004, 'quality'),\n",
       " (0.0016, 'alcohol')]"
      ]
     },
     "execution_count": 25,
     "metadata": {},
     "output_type": "execute_result"
    }
   ],
   "source": [
    "sorted(zip(map(lambda x: round(x, 4), clf.feature_importances_), names), \n",
    "             reverse=True)"
   ]
  },
  {
   "cell_type": "code",
   "execution_count": 26,
   "metadata": {},
   "outputs": [
    {
     "name": "stdout",
     "output_type": "stream",
     "text": [
      "0.5206060606060606\n"
     ]
    }
   ],
   "source": [
    "# K近傍法\n",
    "from sklearn.neighbors import KNeighborsClassifier\n",
    "from sklearn import metrics\n",
    "# k=6からはじめてみます。\n",
    "# インスタンスを作ります。\n",
    "knn = KNeighborsClassifier(n_neighbors = 1)\n",
    "\n",
    "# 学習します。\n",
    "knn.fit(X_train,Y_train)\n",
    "\n",
    "# テストデータを予測します。\n",
    "predict_list_knn = [restore_target_class(x) for x in list(knn.predict(X_test))] \n",
    "\n",
    "# 精度を調べてみましょう。\n",
    "print(metrics.accuracy_score(Y_test,predict_list_knn))"
   ]
  },
  {
   "cell_type": "code",
   "execution_count": 27,
   "metadata": {},
   "outputs": [],
   "source": [
    "# kを変化させてみましょう。\n",
    "k_range = range(1, 90)\n",
    "\n",
    "accuracy = []\n",
    "\n",
    "# 先ほどの計算を繰り返して見ましょう。\n",
    "for k in k_range:\n",
    "    knn = KNeighborsClassifier(n_neighbors=k)\n",
    "    knn.fit(X_train, Y_train)\n",
    "    predict_list_knn = [restore_target_class(x) for x in list(knn.predict(X_test))] \n",
    "    accuracy.append(metrics.accuracy_score(Y_test, predict_list_knn))"
   ]
  },
  {
   "cell_type": "code",
   "execution_count": 28,
   "metadata": {},
   "outputs": [
    {
     "data": {
      "text/plain": [
       "Text(0, 0.5, 'Testing Accuracy')"
      ]
     },
     "execution_count": 28,
     "metadata": {},
     "output_type": "execute_result"
    },
    {
     "data": {
      "image/png": "[encoded data removed]",
      "text/plain": [
       "<Figure size 432x288 with 1 Axes>"
      ]
     },
     "metadata": {
      "needs_background": "light"
     },
     "output_type": "display_data"
    }
   ],
   "source": [
    "plt.plot(k_range, accuracy)\n",
    "plt.xlabel('K for kNN')\n",
    "plt.ylabel('Testing Accuracy')"
   ]
  },
  {
   "cell_type": "code",
   "execution_count": null,
   "metadata": {},
   "outputs": [],
   "source": []
  }
 ],
 "metadata": {
  "kernelspec": {
   "display_name": "Python 3",
   "language": "python",
   "name": "python3"
  },
  "language_info": {
   "codemirror_mode": {
    "name": "ipython",
    "version": 3
   },
   "file_extension": ".py",
   "mimetype": "text/x-python",
   "name": "python",
   "nbconvert_exporter": "python",
   "pygments_lexer": "ipython3",
   "version": "3.7.2"
  }
 },
 "nbformat": 4,
 "nbformat_minor": 4
}
